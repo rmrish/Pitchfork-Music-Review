{
 "cells": [
  {
   "cell_type": "markdown",
   "metadata": {},
   "source": [
    "# Loyal Health Data Science Coding Challenge\n",
    "\n",
    "Instructions: The following questions are designed to assess your understanding of common data science concepts with which you should be familiar. We’ll have you complete some basic analysis over text reviews and their metadata from the popular music review site Pitchfork (https://pitchfork.com/). The data can be downloaded here (https://www.kaggle.com/nolanbconaway/pitchfork-data) in the form of a SQLite database.  We expect this to take around 2 hours (at most 3 hours) to complete. Although the completion of the assignment will not be strictly timed, please do not go over the allotted time. If time is an issue, focus the most on problems 2, 4, and 5. \n",
    "\n",
    "Write all of your code in this Jupyter notebook. When you’ve completed the assessment, please create a GitHub repository, and email us a link to this repository.\n"
   ]
  },
  {
   "cell_type": "markdown",
   "metadata": {},
   "source": [
    "#### Loading the required packages and libraries"
   ]
  },
  {
   "cell_type": "code",
   "execution_count": 1,
   "metadata": {},
   "outputs": [],
   "source": [
    "import sqlite3\n",
    "import pandas as pd\n",
    "from sklearn.preprocessing import OneHotEncoder\n",
    "from functools import reduce\n",
    "from sklearn.preprocessing import LabelEncoder\n",
    "from textblob import TextBlob\n",
    "from sklearn.preprocessing import StandardScaler\n",
    "import pandas as pd\n",
    "import statsmodels.api as sm\n",
    "import statsmodels.formula.api as smf\n",
    "\n"
   ]
  },
  {
   "cell_type": "markdown",
   "metadata": {},
   "source": [
    "#### Loading the sql tables from the sqlite database"
   ]
  },
  {
   "cell_type": "code",
   "execution_count": 2,
   "metadata": {},
   "outputs": [],
   "source": [
    "con = sqlite3.connect(\"database.sqlite\")\n",
    "artists = pd.read_sql_query(\"SELECT * FROM artists\",con)\n",
    "content = pd.read_sql_query(\"SELECT * FROM content\",con)\n",
    "genres = pd.read_sql_query(\"SELECT * FROM genres\",con)\n",
    "labels = pd.read_sql_query(\"SELECT * FROM labels\",con)\n",
    "reviews = pd.read_sql_query(\"SELECT * FROM reviews\",con)\n",
    "years = pd.read_sql_query(\"SELECT * FROM years\",con)"
   ]
  },
  {
   "cell_type": "markdown",
   "metadata": {},
   "source": [
    "## 1. Cursory Data Analysis:"
   ]
  },
  {
   "cell_type": "markdown",
   "metadata": {},
   "source": [
    "#### a) Compute the number of albums belonging to each genre. You should notice that some albums have multiple genres listed (e.g. Folk/Country,Pop/R&B,Rock) separated by commas. Consider albums with multiple genres as belonging to each of those genres (i.e. an album with Rap,Rock as it’s genres will be counted as one Rap album and one Rock album)."
   ]
  },
  {
   "cell_type": "markdown",
   "metadata": {},
   "source": [
    "Rock music is by far the most reviewed genre on the site. Rock music has more than twice the amount of reviews as electronic music, which is the second most reviewed genre."
   ]
  },
  {
   "cell_type": "code",
   "execution_count": 3,
   "metadata": {},
   "outputs": [
    {
     "data": {
      "text/html": [
       "<div>\n",
       "<style scoped>\n",
       "    .dataframe tbody tr th:only-of-type {\n",
       "        vertical-align: middle;\n",
       "    }\n",
       "\n",
       "    .dataframe tbody tr th {\n",
       "        vertical-align: top;\n",
       "    }\n",
       "\n",
       "    .dataframe thead th {\n",
       "        text-align: right;\n",
       "    }\n",
       "</style>\n",
       "<table border=\"1\" class=\"dataframe\">\n",
       "  <thead>\n",
       "    <tr style=\"text-align: right;\">\n",
       "      <th></th>\n",
       "      <th>Number of albums</th>\n",
       "    </tr>\n",
       "    <tr>\n",
       "      <th>Genre</th>\n",
       "      <th></th>\n",
       "    </tr>\n",
       "  </thead>\n",
       "  <tbody>\n",
       "    <tr>\n",
       "      <th>electronic</th>\n",
       "      <td>3874</td>\n",
       "    </tr>\n",
       "    <tr>\n",
       "      <th>experimental</th>\n",
       "      <td>1815</td>\n",
       "    </tr>\n",
       "    <tr>\n",
       "      <th>folk/country</th>\n",
       "      <td>685</td>\n",
       "    </tr>\n",
       "    <tr>\n",
       "      <th>global</th>\n",
       "      <td>219</td>\n",
       "    </tr>\n",
       "    <tr>\n",
       "      <th>jazz</th>\n",
       "      <td>435</td>\n",
       "    </tr>\n",
       "    <tr>\n",
       "      <th>metal</th>\n",
       "      <td>862</td>\n",
       "    </tr>\n",
       "    <tr>\n",
       "      <th>pop/r&amp;b</th>\n",
       "      <td>1432</td>\n",
       "    </tr>\n",
       "    <tr>\n",
       "      <th>rap</th>\n",
       "      <td>1559</td>\n",
       "    </tr>\n",
       "    <tr>\n",
       "      <th>rock</th>\n",
       "      <td>9438</td>\n",
       "    </tr>\n",
       "  </tbody>\n",
       "</table>\n",
       "</div>"
      ],
      "text/plain": [
       "              Number of albums\n",
       "Genre                         \n",
       "electronic                3874\n",
       "experimental              1815\n",
       "folk/country               685\n",
       "global                     219\n",
       "jazz                       435\n",
       "metal                      862\n",
       "pop/r&b                   1432\n",
       "rap                       1559\n",
       "rock                      9438"
      ]
     },
     "execution_count": 3,
     "metadata": {},
     "output_type": "execute_result"
    }
   ],
   "source": [
    "num_genre_albums = reviews.merge(genres, on='reviewid').groupby('genre')['title'].count()\n",
    "num_genre_albums_pd = pd.DataFrame(num_genre_albums).reset_index()\n",
    "num_genre_albums_pd.columns = ['Genre', 'Number of albums']\n",
    "num_genre_albums_pd.set_index('Genre')"
   ]
  },
  {
   "cell_type": "markdown",
   "metadata": {},
   "source": [
    "#### b) Compute the number of albums released each year."
   ]
  },
  {
   "cell_type": "markdown",
   "metadata": {},
   "source": [
    "Year 2007 has the most number of releases. And, there is a 400% increase in the number of releases in Year 1999."
   ]
  },
  {
   "cell_type": "code",
   "execution_count": 4,
   "metadata": {},
   "outputs": [
    {
     "data": {
      "text/html": [
       "<div>\n",
       "<style scoped>\n",
       "    .dataframe tbody tr th:only-of-type {\n",
       "        vertical-align: middle;\n",
       "    }\n",
       "\n",
       "    .dataframe tbody tr th {\n",
       "        vertical-align: top;\n",
       "    }\n",
       "\n",
       "    .dataframe thead th {\n",
       "        text-align: right;\n",
       "    }\n",
       "</style>\n",
       "<table border=\"1\" class=\"dataframe\">\n",
       "  <thead>\n",
       "    <tr style=\"text-align: right;\">\n",
       "      <th></th>\n",
       "      <th>Number of albums</th>\n",
       "    </tr>\n",
       "    <tr>\n",
       "      <th>Released_year</th>\n",
       "      <th></th>\n",
       "    </tr>\n",
       "  </thead>\n",
       "  <tbody>\n",
       "    <tr>\n",
       "      <th>1959.0</th>\n",
       "      <td>1</td>\n",
       "    </tr>\n",
       "    <tr>\n",
       "      <th>1960.0</th>\n",
       "      <td>3</td>\n",
       "    </tr>\n",
       "    <tr>\n",
       "      <th>1962.0</th>\n",
       "      <td>3</td>\n",
       "    </tr>\n",
       "    <tr>\n",
       "      <th>1963.0</th>\n",
       "      <td>3</td>\n",
       "    </tr>\n",
       "    <tr>\n",
       "      <th>1964.0</th>\n",
       "      <td>5</td>\n",
       "    </tr>\n",
       "    <tr>\n",
       "      <th>1965.0</th>\n",
       "      <td>7</td>\n",
       "    </tr>\n",
       "    <tr>\n",
       "      <th>1966.0</th>\n",
       "      <td>8</td>\n",
       "    </tr>\n",
       "    <tr>\n",
       "      <th>1967.0</th>\n",
       "      <td>7</td>\n",
       "    </tr>\n",
       "    <tr>\n",
       "      <th>1968.0</th>\n",
       "      <td>16</td>\n",
       "    </tr>\n",
       "    <tr>\n",
       "      <th>1969.0</th>\n",
       "      <td>14</td>\n",
       "    </tr>\n",
       "    <tr>\n",
       "      <th>1970.0</th>\n",
       "      <td>18</td>\n",
       "    </tr>\n",
       "    <tr>\n",
       "      <th>1971.0</th>\n",
       "      <td>27</td>\n",
       "    </tr>\n",
       "    <tr>\n",
       "      <th>1972.0</th>\n",
       "      <td>15</td>\n",
       "    </tr>\n",
       "    <tr>\n",
       "      <th>1973.0</th>\n",
       "      <td>13</td>\n",
       "    </tr>\n",
       "    <tr>\n",
       "      <th>1974.0</th>\n",
       "      <td>11</td>\n",
       "    </tr>\n",
       "    <tr>\n",
       "      <th>1975.0</th>\n",
       "      <td>13</td>\n",
       "    </tr>\n",
       "    <tr>\n",
       "      <th>1976.0</th>\n",
       "      <td>10</td>\n",
       "    </tr>\n",
       "    <tr>\n",
       "      <th>1977.0</th>\n",
       "      <td>25</td>\n",
       "    </tr>\n",
       "    <tr>\n",
       "      <th>1978.0</th>\n",
       "      <td>11</td>\n",
       "    </tr>\n",
       "    <tr>\n",
       "      <th>1979.0</th>\n",
       "      <td>25</td>\n",
       "    </tr>\n",
       "    <tr>\n",
       "      <th>1980.0</th>\n",
       "      <td>25</td>\n",
       "    </tr>\n",
       "    <tr>\n",
       "      <th>1981.0</th>\n",
       "      <td>25</td>\n",
       "    </tr>\n",
       "    <tr>\n",
       "      <th>1982.0</th>\n",
       "      <td>17</td>\n",
       "    </tr>\n",
       "    <tr>\n",
       "      <th>1983.0</th>\n",
       "      <td>16</td>\n",
       "    </tr>\n",
       "    <tr>\n",
       "      <th>1984.0</th>\n",
       "      <td>11</td>\n",
       "    </tr>\n",
       "    <tr>\n",
       "      <th>1985.0</th>\n",
       "      <td>19</td>\n",
       "    </tr>\n",
       "    <tr>\n",
       "      <th>1986.0</th>\n",
       "      <td>7</td>\n",
       "    </tr>\n",
       "    <tr>\n",
       "      <th>1987.0</th>\n",
       "      <td>12</td>\n",
       "    </tr>\n",
       "    <tr>\n",
       "      <th>1988.0</th>\n",
       "      <td>16</td>\n",
       "    </tr>\n",
       "    <tr>\n",
       "      <th>1989.0</th>\n",
       "      <td>14</td>\n",
       "    </tr>\n",
       "    <tr>\n",
       "      <th>1990.0</th>\n",
       "      <td>21</td>\n",
       "    </tr>\n",
       "    <tr>\n",
       "      <th>1991.0</th>\n",
       "      <td>18</td>\n",
       "    </tr>\n",
       "    <tr>\n",
       "      <th>1992.0</th>\n",
       "      <td>25</td>\n",
       "    </tr>\n",
       "    <tr>\n",
       "      <th>1993.0</th>\n",
       "      <td>19</td>\n",
       "    </tr>\n",
       "    <tr>\n",
       "      <th>1994.0</th>\n",
       "      <td>26</td>\n",
       "    </tr>\n",
       "    <tr>\n",
       "      <th>1995.0</th>\n",
       "      <td>19</td>\n",
       "    </tr>\n",
       "    <tr>\n",
       "      <th>1996.0</th>\n",
       "      <td>33</td>\n",
       "    </tr>\n",
       "    <tr>\n",
       "      <th>1997.0</th>\n",
       "      <td>24</td>\n",
       "    </tr>\n",
       "    <tr>\n",
       "      <th>1998.0</th>\n",
       "      <td>23</td>\n",
       "    </tr>\n",
       "    <tr>\n",
       "      <th>1999.0</th>\n",
       "      <td>116</td>\n",
       "    </tr>\n",
       "    <tr>\n",
       "      <th>2000.0</th>\n",
       "      <td>220</td>\n",
       "    </tr>\n",
       "    <tr>\n",
       "      <th>2001.0</th>\n",
       "      <td>579</td>\n",
       "    </tr>\n",
       "    <tr>\n",
       "      <th>2002.0</th>\n",
       "      <td>966</td>\n",
       "    </tr>\n",
       "    <tr>\n",
       "      <th>2003.0</th>\n",
       "      <td>1030</td>\n",
       "    </tr>\n",
       "    <tr>\n",
       "      <th>2004.0</th>\n",
       "      <td>1046</td>\n",
       "    </tr>\n",
       "    <tr>\n",
       "      <th>2005.0</th>\n",
       "      <td>1216</td>\n",
       "    </tr>\n",
       "    <tr>\n",
       "      <th>2006.0</th>\n",
       "      <td>1190</td>\n",
       "    </tr>\n",
       "    <tr>\n",
       "      <th>2007.0</th>\n",
       "      <td>1265</td>\n",
       "    </tr>\n",
       "    <tr>\n",
       "      <th>2008.0</th>\n",
       "      <td>1177</td>\n",
       "    </tr>\n",
       "    <tr>\n",
       "      <th>2009.0</th>\n",
       "      <td>1149</td>\n",
       "    </tr>\n",
       "    <tr>\n",
       "      <th>2010.0</th>\n",
       "      <td>1139</td>\n",
       "    </tr>\n",
       "    <tr>\n",
       "      <th>2011.0</th>\n",
       "      <td>1140</td>\n",
       "    </tr>\n",
       "    <tr>\n",
       "      <th>2012.0</th>\n",
       "      <td>1179</td>\n",
       "    </tr>\n",
       "    <tr>\n",
       "      <th>2013.0</th>\n",
       "      <td>1200</td>\n",
       "    </tr>\n",
       "    <tr>\n",
       "      <th>2014.0</th>\n",
       "      <td>1134</td>\n",
       "    </tr>\n",
       "    <tr>\n",
       "      <th>2015.0</th>\n",
       "      <td>1153</td>\n",
       "    </tr>\n",
       "    <tr>\n",
       "      <th>2016.0</th>\n",
       "      <td>1205</td>\n",
       "    </tr>\n",
       "    <tr>\n",
       "      <th>2017.0</th>\n",
       "      <td>1</td>\n",
       "    </tr>\n",
       "  </tbody>\n",
       "</table>\n",
       "</div>"
      ],
      "text/plain": [
       "               Number of albums\n",
       "Released_year                  \n",
       "1959.0                        1\n",
       "1960.0                        3\n",
       "1962.0                        3\n",
       "1963.0                        3\n",
       "1964.0                        5\n",
       "1965.0                        7\n",
       "1966.0                        8\n",
       "1967.0                        7\n",
       "1968.0                       16\n",
       "1969.0                       14\n",
       "1970.0                       18\n",
       "1971.0                       27\n",
       "1972.0                       15\n",
       "1973.0                       13\n",
       "1974.0                       11\n",
       "1975.0                       13\n",
       "1976.0                       10\n",
       "1977.0                       25\n",
       "1978.0                       11\n",
       "1979.0                       25\n",
       "1980.0                       25\n",
       "1981.0                       25\n",
       "1982.0                       17\n",
       "1983.0                       16\n",
       "1984.0                       11\n",
       "1985.0                       19\n",
       "1986.0                        7\n",
       "1987.0                       12\n",
       "1988.0                       16\n",
       "1989.0                       14\n",
       "1990.0                       21\n",
       "1991.0                       18\n",
       "1992.0                       25\n",
       "1993.0                       19\n",
       "1994.0                       26\n",
       "1995.0                       19\n",
       "1996.0                       33\n",
       "1997.0                       24\n",
       "1998.0                       23\n",
       "1999.0                      116\n",
       "2000.0                      220\n",
       "2001.0                      579\n",
       "2002.0                      966\n",
       "2003.0                     1030\n",
       "2004.0                     1046\n",
       "2005.0                     1216\n",
       "2006.0                     1190\n",
       "2007.0                     1265\n",
       "2008.0                     1177\n",
       "2009.0                     1149\n",
       "2010.0                     1139\n",
       "2011.0                     1140\n",
       "2012.0                     1179\n",
       "2013.0                     1200\n",
       "2014.0                     1134\n",
       "2015.0                     1153\n",
       "2016.0                     1205\n",
       "2017.0                        1"
      ]
     },
     "execution_count": 4,
     "metadata": {},
     "output_type": "execute_result"
    }
   ],
   "source": [
    "num_albums_released = reviews.merge(years, on='reviewid').groupby('year')['title'].count()\n",
    "num_albums_released_pd = pd.DataFrame(num_albums_released).reset_index()\n",
    "num_albums_released_pd.columns = ['Released_year' , 'Number of albums']\n",
    "num_albums_released_pd.set_index('Released_year')"
   ]
  },
  {
   "cell_type": "markdown",
   "metadata": {},
   "source": [
    "#### c) Compute the ten artists with the highest number of albums reviewed in the data set."
   ]
  },
  {
   "cell_type": "markdown",
   "metadata": {},
   "source": [
    "Albums that cast various number of artists got the most number of reviews. Ther is a huge difference between the topmost category and the other artists reviewed albums."
   ]
  },
  {
   "cell_type": "code",
   "execution_count": 5,
   "metadata": {},
   "outputs": [
    {
     "data": {
      "text/html": [
       "<div>\n",
       "<style scoped>\n",
       "    .dataframe tbody tr th:only-of-type {\n",
       "        vertical-align: middle;\n",
       "    }\n",
       "\n",
       "    .dataframe tbody tr th {\n",
       "        vertical-align: top;\n",
       "    }\n",
       "\n",
       "    .dataframe thead th {\n",
       "        text-align: right;\n",
       "    }\n",
       "</style>\n",
       "<table border=\"1\" class=\"dataframe\">\n",
       "  <thead>\n",
       "    <tr style=\"text-align: right;\">\n",
       "      <th></th>\n",
       "      <th>Number of albums reviewed</th>\n",
       "    </tr>\n",
       "    <tr>\n",
       "      <th>Artist</th>\n",
       "      <th></th>\n",
       "    </tr>\n",
       "  </thead>\n",
       "  <tbody>\n",
       "    <tr>\n",
       "      <th>various artists</th>\n",
       "      <td>690</td>\n",
       "    </tr>\n",
       "    <tr>\n",
       "      <th>guided by voices</th>\n",
       "      <td>23</td>\n",
       "    </tr>\n",
       "    <tr>\n",
       "      <th>neil young</th>\n",
       "      <td>23</td>\n",
       "    </tr>\n",
       "    <tr>\n",
       "      <th>bonnie prince billy</th>\n",
       "      <td>22</td>\n",
       "    </tr>\n",
       "    <tr>\n",
       "      <th>david bowie</th>\n",
       "      <td>21</td>\n",
       "    </tr>\n",
       "    <tr>\n",
       "      <th>the beatles</th>\n",
       "      <td>21</td>\n",
       "    </tr>\n",
       "    <tr>\n",
       "      <th>gucci mane</th>\n",
       "      <td>20</td>\n",
       "    </tr>\n",
       "    <tr>\n",
       "      <th>mogwai</th>\n",
       "      <td>20</td>\n",
       "    </tr>\n",
       "    <tr>\n",
       "      <th>of montreal</th>\n",
       "      <td>20</td>\n",
       "    </tr>\n",
       "    <tr>\n",
       "      <th>robert pollard</th>\n",
       "      <td>19</td>\n",
       "    </tr>\n",
       "  </tbody>\n",
       "</table>\n",
       "</div>"
      ],
      "text/plain": [
       "                     Number of albums reviewed\n",
       "Artist                                        \n",
       "various artists                            690\n",
       "guided by voices                            23\n",
       "neil young                                  23\n",
       "bonnie prince billy                         22\n",
       "david bowie                                 21\n",
       "the beatles                                 21\n",
       "gucci mane                                  20\n",
       "mogwai                                      20\n",
       "of montreal                                 20\n",
       "robert pollard                              19"
      ]
     },
     "execution_count": 5,
     "metadata": {},
     "output_type": "execute_result"
    }
   ],
   "source": [
    "num_albums_reviewed = pd.DataFrame(reviews[['reviewid','title']]).merge(artists, on='reviewid').groupby('artist')['title'].count()\n",
    "num_albums_reviewed_pd = pd.DataFrame(num_albums_reviewed).reset_index().sort_values(['title'], ascending=False)\n",
    "num_albums_reviewed_pd.columns = ['Artist', 'Number of albums reviewed']\n",
    "num_albums_reviewed_pd = num_albums_reviewed_pd[:10]\n",
    "num_albums_reviewed_pd.set_index('Artist')"
   ]
  },
  {
   "cell_type": "markdown",
   "metadata": {},
   "source": [
    "#### d) Compute the mean, median, standard deviation, minimum, and maximum album scores."
   ]
  },
  {
   "cell_type": "markdown",
   "metadata": {},
   "source": [
    "We can see that review scores follow a roughly normal distribution centered over a mean score of  7.006  with a standard deviation of  1.294 ."
   ]
  },
  {
   "cell_type": "code",
   "execution_count": 6,
   "metadata": {},
   "outputs": [
    {
     "data": {
      "text/plain": [
       "count    18393.000000\n",
       "mean         7.005779\n",
       "std          1.293675\n",
       "min          0.000000\n",
       "25%          6.400000\n",
       "50%          7.200000\n",
       "75%          7.800000\n",
       "max         10.000000\n",
       "Name: score, dtype: float64"
      ]
     },
     "execution_count": 6,
     "metadata": {},
     "output_type": "execute_result"
    }
   ],
   "source": [
    "reviews['score'].describe()"
   ]
  },
  {
   "cell_type": "markdown",
   "metadata": {},
   "source": [
    "#### e) Compute the average score by each review author and return the result in a dataframe sort in descending order."
   ]
  },
  {
   "cell_type": "markdown",
   "metadata": {},
   "source": [
    "Few entries in the author column of the reviews table have multiple authors reviewing the album. So, the list of multiple authors need to be converted into individual rows to calculate the average score for each author."
   ]
  },
  {
   "cell_type": "code",
   "execution_count": 7,
   "metadata": {},
   "outputs": [
    {
     "data": {
      "text/plain": [
       "(18393, 13)"
      ]
     },
     "execution_count": 7,
     "metadata": {},
     "output_type": "execute_result"
    }
   ],
   "source": [
    "reviews.shape"
   ]
  },
  {
   "cell_type": "code",
   "execution_count": 8,
   "metadata": {},
   "outputs": [],
   "source": [
    "# convert authors and separated list into rows\n",
    "reviews = reviews.assign(author=reviews.author.str.split(\"&\")).explode('author')"
   ]
  },
  {
   "cell_type": "code",
   "execution_count": 9,
   "metadata": {},
   "outputs": [
    {
     "data": {
      "text/html": [
       "<div>\n",
       "<style scoped>\n",
       "    .dataframe tbody tr th:only-of-type {\n",
       "        vertical-align: middle;\n",
       "    }\n",
       "\n",
       "    .dataframe tbody tr th {\n",
       "        vertical-align: top;\n",
       "    }\n",
       "\n",
       "    .dataframe thead th {\n",
       "        text-align: right;\n",
       "    }\n",
       "</style>\n",
       "<table border=\"1\" class=\"dataframe\">\n",
       "  <thead>\n",
       "    <tr style=\"text-align: right;\">\n",
       "      <th></th>\n",
       "      <th>Mean Score</th>\n",
       "    </tr>\n",
       "    <tr>\n",
       "      <th>Author</th>\n",
       "      <th></th>\n",
       "    </tr>\n",
       "  </thead>\n",
       "  <tbody>\n",
       "    <tr>\n",
       "      <th>maura johnston</th>\n",
       "      <td>10.000000</td>\n",
       "    </tr>\n",
       "    <tr>\n",
       "      <th>nelson george</th>\n",
       "      <td>10.000000</td>\n",
       "    </tr>\n",
       "    <tr>\n",
       "      <th>carvell wallace</th>\n",
       "      <td>9.833333</td>\n",
       "    </tr>\n",
       "    <tr>\n",
       "      <th>dorian lynskey</th>\n",
       "      <td>9.500000</td>\n",
       "    </tr>\n",
       "    <tr>\n",
       "      <th>rollie pemberton</th>\n",
       "      <td>9.400000</td>\n",
       "    </tr>\n",
       "    <tr>\n",
       "      <th>...</th>\n",
       "      <td>...</td>\n",
       "    </tr>\n",
       "    <tr>\n",
       "      <th>stephen  m. deusner</th>\n",
       "      <td>3.800000</td>\n",
       "    </tr>\n",
       "    <tr>\n",
       "      <th>bob o. mcmillan</th>\n",
       "      <td>3.500000</td>\n",
       "    </tr>\n",
       "    <tr>\n",
       "      <th>dr. andy beta</th>\n",
       "      <td>3.300000</td>\n",
       "    </tr>\n",
       "    <tr>\n",
       "      <th>brad haywood</th>\n",
       "      <td>3.100000</td>\n",
       "    </tr>\n",
       "    <tr>\n",
       "      <th>chris dahlen</th>\n",
       "      <td>1.700000</td>\n",
       "    </tr>\n",
       "  </tbody>\n",
       "</table>\n",
       "<p>441 rows × 1 columns</p>\n",
       "</div>"
      ],
      "text/plain": [
       "                     Mean Score\n",
       "Author                         \n",
       "maura johnston        10.000000\n",
       "nelson george         10.000000\n",
       "carvell wallace        9.833333\n",
       "dorian lynskey         9.500000\n",
       "rollie pemberton       9.400000\n",
       "...                         ...\n",
       "stephen  m. deusner    3.800000\n",
       "bob o. mcmillan        3.500000\n",
       "dr. andy beta          3.300000\n",
       "brad haywood           3.100000\n",
       "chris dahlen           1.700000\n",
       "\n",
       "[441 rows x 1 columns]"
      ]
     },
     "execution_count": 9,
     "metadata": {},
     "output_type": "execute_result"
    }
   ],
   "source": [
    "mean_author_scores = reviews.groupby('author')['score'].mean()\n",
    "mean_author_scores_pd = pd.DataFrame(mean_author_scores).reset_index().sort_values(['score'], ascending=False)\n",
    "mean_author_scores_pd.columns = ['Author', 'Mean Score']\n",
    "mean_author_scores_pd.set_index('Author')"
   ]
  },
  {
   "cell_type": "markdown",
   "metadata": {},
   "source": [
    "##### f) Compute the average album score per artist and return the result in a dataframe with an additional column for the number of albums they’ve had reviewed."
   ]
  },
  {
   "cell_type": "markdown",
   "metadata": {},
   "source": [
    "Most of the Highest and the lowest average scores are coming from the artists that had reviewed few number of albums."
   ]
  },
  {
   "cell_type": "code",
   "execution_count": 10,
   "metadata": {},
   "outputs": [],
   "source": [
    "reviews_df = reviews[['reviewid', 'title', 'score']]\n",
    "reviews_df = reviews_df.merge(artists, on='reviewid')\n",
    "reviews_df = reviews_df.groupby(['artist']).agg({'title' : 'count', 'score' : 'mean'})\n",
    "reviews_df.columns = ['n_albums', 'mean score']\n",
    "reviews_df = reviews_df.sort_values(by='mean score', ascending=False)"
   ]
  },
  {
   "cell_type": "markdown",
   "metadata": {},
   "source": [
    "#### i) Return the artists with the top 10 highest average scores"
   ]
  },
  {
   "cell_type": "code",
   "execution_count": 11,
   "metadata": {},
   "outputs": [
    {
     "data": {
      "text/html": [
       "<div>\n",
       "<style scoped>\n",
       "    .dataframe tbody tr th:only-of-type {\n",
       "        vertical-align: middle;\n",
       "    }\n",
       "\n",
       "    .dataframe tbody tr th {\n",
       "        vertical-align: top;\n",
       "    }\n",
       "\n",
       "    .dataframe thead th {\n",
       "        text-align: right;\n",
       "    }\n",
       "</style>\n",
       "<table border=\"1\" class=\"dataframe\">\n",
       "  <thead>\n",
       "    <tr style=\"text-align: right;\">\n",
       "      <th></th>\n",
       "      <th>n_albums</th>\n",
       "      <th>mean score</th>\n",
       "    </tr>\n",
       "    <tr>\n",
       "      <th>artist</th>\n",
       "      <th></th>\n",
       "      <th></th>\n",
       "    </tr>\n",
       "  </thead>\n",
       "  <tbody>\n",
       "    <tr>\n",
       "      <th>slint</th>\n",
       "      <td>1</td>\n",
       "      <td>10.00</td>\n",
       "    </tr>\n",
       "    <tr>\n",
       "      <th>stevie wonder</th>\n",
       "      <td>1</td>\n",
       "      <td>10.00</td>\n",
       "    </tr>\n",
       "    <tr>\n",
       "      <th>talk talk</th>\n",
       "      <td>1</td>\n",
       "      <td>10.00</td>\n",
       "    </tr>\n",
       "    <tr>\n",
       "      <th>television</th>\n",
       "      <td>1</td>\n",
       "      <td>10.00</td>\n",
       "    </tr>\n",
       "    <tr>\n",
       "      <th>the stone roses</th>\n",
       "      <td>1</td>\n",
       "      <td>10.00</td>\n",
       "    </tr>\n",
       "    <tr>\n",
       "      <th>elvis costello &amp; the attractions</th>\n",
       "      <td>2</td>\n",
       "      <td>9.75</td>\n",
       "    </tr>\n",
       "    <tr>\n",
       "      <th>dangelo</th>\n",
       "      <td>2</td>\n",
       "      <td>9.70</td>\n",
       "    </tr>\n",
       "    <tr>\n",
       "      <th>ultramagnetic mc's</th>\n",
       "      <td>1</td>\n",
       "      <td>9.70</td>\n",
       "    </tr>\n",
       "    <tr>\n",
       "      <th>n.w.a.</th>\n",
       "      <td>1</td>\n",
       "      <td>9.70</td>\n",
       "    </tr>\n",
       "    <tr>\n",
       "      <th>my bloody valentine</th>\n",
       "      <td>2</td>\n",
       "      <td>9.55</td>\n",
       "    </tr>\n",
       "  </tbody>\n",
       "</table>\n",
       "</div>"
      ],
      "text/plain": [
       "                                  n_albums  mean score\n",
       "artist                                                \n",
       "slint                                    1       10.00\n",
       "stevie wonder                            1       10.00\n",
       "talk talk                                1       10.00\n",
       "television                               1       10.00\n",
       "the stone roses                          1       10.00\n",
       "elvis costello & the attractions         2        9.75\n",
       "dangelo                                  2        9.70\n",
       "ultramagnetic mc's                       1        9.70\n",
       "n.w.a.                                   1        9.70\n",
       "my bloody valentine                      2        9.55"
      ]
     },
     "execution_count": 11,
     "metadata": {},
     "output_type": "execute_result"
    }
   ],
   "source": [
    "reviews_df[:10]"
   ]
  },
  {
   "cell_type": "markdown",
   "metadata": {},
   "source": [
    "####  ii) Return the artists with the top 10 lowest average scores"
   ]
  },
  {
   "cell_type": "code",
   "execution_count": 12,
   "metadata": {},
   "outputs": [
    {
     "data": {
      "text/html": [
       "<div>\n",
       "<style scoped>\n",
       "    .dataframe tbody tr th:only-of-type {\n",
       "        vertical-align: middle;\n",
       "    }\n",
       "\n",
       "    .dataframe tbody tr th {\n",
       "        vertical-align: top;\n",
       "    }\n",
       "\n",
       "    .dataframe thead th {\n",
       "        text-align: right;\n",
       "    }\n",
       "</style>\n",
       "<table border=\"1\" class=\"dataframe\">\n",
       "  <thead>\n",
       "    <tr style=\"text-align: right;\">\n",
       "      <th></th>\n",
       "      <th>n_albums</th>\n",
       "      <th>mean score</th>\n",
       "    </tr>\n",
       "    <tr>\n",
       "      <th>artist</th>\n",
       "      <th></th>\n",
       "      <th></th>\n",
       "    </tr>\n",
       "  </thead>\n",
       "  <tbody>\n",
       "    <tr>\n",
       "      <th>land of the el caminos</th>\n",
       "      <td>1</td>\n",
       "      <td>1.2</td>\n",
       "    </tr>\n",
       "    <tr>\n",
       "      <th>muggs</th>\n",
       "      <td>1</td>\n",
       "      <td>1.1</td>\n",
       "    </tr>\n",
       "    <tr>\n",
       "      <th>geoff farina</th>\n",
       "      <td>1</td>\n",
       "      <td>1.0</td>\n",
       "    </tr>\n",
       "    <tr>\n",
       "      <th>kra brekkan</th>\n",
       "      <td>1</td>\n",
       "      <td>1.0</td>\n",
       "    </tr>\n",
       "    <tr>\n",
       "      <th>toe</th>\n",
       "      <td>1</td>\n",
       "      <td>0.8</td>\n",
       "    </tr>\n",
       "    <tr>\n",
       "      <th>liars academy</th>\n",
       "      <td>1</td>\n",
       "      <td>0.6</td>\n",
       "    </tr>\n",
       "    <tr>\n",
       "      <th>shat</th>\n",
       "      <td>1</td>\n",
       "      <td>0.2</td>\n",
       "    </tr>\n",
       "    <tr>\n",
       "      <th>dan le sac vs. scroobius pip</th>\n",
       "      <td>1</td>\n",
       "      <td>0.2</td>\n",
       "    </tr>\n",
       "    <tr>\n",
       "      <th>push kings</th>\n",
       "      <td>1</td>\n",
       "      <td>0.1</td>\n",
       "    </tr>\n",
       "    <tr>\n",
       "      <th>travis morrison</th>\n",
       "      <td>1</td>\n",
       "      <td>0.0</td>\n",
       "    </tr>\n",
       "  </tbody>\n",
       "</table>\n",
       "</div>"
      ],
      "text/plain": [
       "                              n_albums  mean score\n",
       "artist                                            \n",
       "land of the el caminos               1         1.2\n",
       "muggs                                1         1.1\n",
       "geoff farina                         1         1.0\n",
       "kra brekkan                          1         1.0\n",
       "toe                                  1         0.8\n",
       "liars academy                        1         0.6\n",
       "shat                                 1         0.2\n",
       "dan le sac vs. scroobius pip         1         0.2\n",
       "push kings                           1         0.1\n",
       "travis morrison                      1         0.0"
      ]
     },
     "execution_count": 12,
     "metadata": {},
     "output_type": "execute_result"
    }
   ],
   "source": [
    "reviews_df.tail(10)"
   ]
  },
  {
   "cell_type": "markdown",
   "metadata": {},
   "source": [
    "## 2) SQL:\n",
    "\n",
    "Merge the database tables into a dataframe containing all of the relevant metadata.\n"
   ]
  },
  {
   "cell_type": "code",
   "execution_count": 13,
   "metadata": {},
   "outputs": [],
   "source": [
    "df_pitch = reduce(lambda x,y: pd.merge(x,y, on='reviewid', how='outer'), [artists,content,genres,labels, reviews, years])"
   ]
  },
  {
   "cell_type": "code",
   "execution_count": 14,
   "metadata": {},
   "outputs": [
    {
     "data": {
      "text/plain": [
       "(27141, 18)"
      ]
     },
     "execution_count": 14,
     "metadata": {},
     "output_type": "execute_result"
    }
   ],
   "source": [
    "df_pitch.shape"
   ]
  },
  {
   "cell_type": "code",
   "execution_count": 15,
   "metadata": {},
   "outputs": [
    {
     "data": {
      "text/plain": [
       "Index(['reviewid', 'artist', 'content', 'genre', 'label', 'title', 'artist_y',\n",
       "       'url', 'score', 'best_new_music', 'author', 'author_type', 'pub_date',\n",
       "       'pub_weekday', 'pub_day', 'pub_month', 'pub_year', 'year'],\n",
       "      dtype='object')"
      ]
     },
     "execution_count": 15,
     "metadata": {},
     "output_type": "execute_result"
    }
   ],
   "source": [
    "# df_pitch = df_pitch.drop('artist_y',axis=1)\n",
    "df_pitch.rename({'artist_x':'artist'},axis=1, inplace=True)\n",
    "df_pitch.columns"
   ]
  },
  {
   "cell_type": "markdown",
   "metadata": {},
   "source": [
    "## 3) Dataframe Manipulation (Using the Dataframe from part 2) create new DataFrames based on the stipulations below):\n"
   ]
  },
  {
   "cell_type": "code",
   "execution_count": 16,
   "metadata": {},
   "outputs": [
    {
     "data": {
      "text/plain": [
       "(27141, 18)"
      ]
     },
     "execution_count": 16,
     "metadata": {},
     "output_type": "execute_result"
    }
   ],
   "source": [
    "df_pitch.shape"
   ]
  },
  {
   "cell_type": "markdown",
   "metadata": {},
   "source": [
    "#### a) Create a new DataFrame excluding all artists with names that start with the letter “M” (either upper or lowercase)."
   ]
  },
  {
   "cell_type": "code",
   "execution_count": 17,
   "metadata": {},
   "outputs": [
    {
     "data": {
      "text/plain": [
       "(25088, 18)"
      ]
     },
     "execution_count": 17,
     "metadata": {},
     "output_type": "execute_result"
    }
   ],
   "source": [
    "mask1 = ~df_pitch.artist.str.startswith(('m', 'M'))\n",
    "df_a = df_pitch.loc[mask1]\n",
    "df_a['artist'].nunique()\n",
    "df_a.shape"
   ]
  },
  {
   "cell_type": "markdown",
   "metadata": {},
   "source": [
    "#### b) Create a new DataFrame excluding albums with a score less than 4.0."
   ]
  },
  {
   "cell_type": "code",
   "execution_count": 18,
   "metadata": {},
   "outputs": [
    {
     "data": {
      "text/plain": [
       "(891, 18)"
      ]
     },
     "execution_count": 18,
     "metadata": {},
     "output_type": "execute_result"
    }
   ],
   "source": [
    "mask2 = df_pitch['score']<4.0\n",
    "df_b = df_pitch.loc[mask2]\n",
    "df_b.shape"
   ]
  },
  {
   "cell_type": "code",
   "execution_count": 19,
   "metadata": {},
   "outputs": [
    {
     "data": {
      "text/plain": [
       "array([3.5, 2. , 2.5, 3.8, 3. , 3.9, 3.2, 3.3, 2.4, 3.6, 1. , 3.1, 3.4,\n",
       "       2.8, 2.9, 2.6, 1.8, 1.6, 2.2, 3.7, 2.1, 2.7, 1.5, 1.9, 2.3, 1.7,\n",
       "       1.4, 0.2, 0.4, 1.3, 0. , 0.6, 0.5, 1.2, 0.9, 0.8, 1.1, 0.7, 0.1,\n",
       "       0.3])"
      ]
     },
     "execution_count": 19,
     "metadata": {},
     "output_type": "execute_result"
    }
   ],
   "source": [
    "df_b['score'].unique()"
   ]
  },
  {
   "cell_type": "markdown",
   "metadata": {},
   "source": [
    "#### c) Create a new DataFrame excluding albums from the label Columbia"
   ]
  },
  {
   "cell_type": "code",
   "execution_count": 20,
   "metadata": {},
   "outputs": [
    {
     "data": {
      "text/plain": [
       "(26881, 18)"
      ]
     },
     "execution_count": 20,
     "metadata": {},
     "output_type": "execute_result"
    }
   ],
   "source": [
    "mask3 = df_pitch['label']!='columbia'\n",
    "df_c = df_pitch.loc[mask3]\n",
    "df_c.shape"
   ]
  },
  {
   "cell_type": "code",
   "execution_count": 21,
   "metadata": {},
   "outputs": [
    {
     "data": {
      "text/plain": [
       "3666"
      ]
     },
     "execution_count": 21,
     "metadata": {},
     "output_type": "execute_result"
    }
   ],
   "source": [
    "df_c['label'].nunique()"
   ]
  },
  {
   "cell_type": "markdown",
   "metadata": {},
   "source": [
    "#### d) Create a new DataFrame excluding albums that belong to the metal genre."
   ]
  },
  {
   "cell_type": "code",
   "execution_count": 22,
   "metadata": {},
   "outputs": [
    {
     "data": {
      "text/plain": [
       "(26095, 18)"
      ]
     },
     "execution_count": 22,
     "metadata": {},
     "output_type": "execute_result"
    }
   ],
   "source": [
    "mask4 = df_pitch['genre']!='metal'\n",
    "df_d = df_pitch.loc[mask4]\n",
    "df_d.shape"
   ]
  },
  {
   "cell_type": "markdown",
   "metadata": {},
   "source": [
    "#### e) Create a new DataFrame excluding albums where that artist’s name contains an even number of characters (including whitespace as characters)"
   ]
  },
  {
   "cell_type": "code",
   "execution_count": 23,
   "metadata": {},
   "outputs": [
    {
     "data": {
      "text/plain": [
       "(12616, 18)"
      ]
     },
     "execution_count": 23,
     "metadata": {},
     "output_type": "execute_result"
    }
   ],
   "source": [
    "mask5 = df_pitch['artist'].str.len() %2 == 0\n",
    "df_e = df_pitch.loc[mask5]\n",
    "df_e.shape"
   ]
  },
  {
   "cell_type": "markdown",
   "metadata": {},
   "source": [
    "#### f) Combine these DataFrames into one where each album meets the conditions required for each."
   ]
  },
  {
   "cell_type": "code",
   "execution_count": 24,
   "metadata": {},
   "outputs": [],
   "source": [
    "frames = [df_a,df_b,df_c,df_d,df_e]\n",
    "df_f = pd.concat(frames)"
   ]
  },
  {
   "cell_type": "code",
   "execution_count": 25,
   "metadata": {},
   "outputs": [
    {
     "data": {
      "text/plain": [
       "(336, 18)"
      ]
     },
     "execution_count": 25,
     "metadata": {},
     "output_type": "execute_result"
    }
   ],
   "source": [
    "mask6 = (mask1) & (mask2) & (mask3) & (mask4) & (mask5) \n",
    "df_f = df_pitch.loc[mask6]\n",
    "df_f.shape"
   ]
  },
  {
   "cell_type": "code",
   "execution_count": 26,
   "metadata": {},
   "outputs": [
    {
     "data": {
      "text/html": [
       "<div>\n",
       "<style scoped>\n",
       "    .dataframe tbody tr th:only-of-type {\n",
       "        vertical-align: middle;\n",
       "    }\n",
       "\n",
       "    .dataframe tbody tr th {\n",
       "        vertical-align: top;\n",
       "    }\n",
       "\n",
       "    .dataframe thead th {\n",
       "        text-align: right;\n",
       "    }\n",
       "</style>\n",
       "<table border=\"1\" class=\"dataframe\">\n",
       "  <thead>\n",
       "    <tr style=\"text-align: right;\">\n",
       "      <th></th>\n",
       "      <th>reviewid</th>\n",
       "      <th>artist</th>\n",
       "      <th>content</th>\n",
       "      <th>genre</th>\n",
       "      <th>label</th>\n",
       "      <th>title</th>\n",
       "      <th>artist_y</th>\n",
       "      <th>url</th>\n",
       "      <th>score</th>\n",
       "      <th>best_new_music</th>\n",
       "      <th>author</th>\n",
       "      <th>author_type</th>\n",
       "      <th>pub_date</th>\n",
       "      <th>pub_weekday</th>\n",
       "      <th>pub_day</th>\n",
       "      <th>pub_month</th>\n",
       "      <th>pub_year</th>\n",
       "      <th>year</th>\n",
       "    </tr>\n",
       "  </thead>\n",
       "  <tbody>\n",
       "    <tr>\n",
       "      <th>17</th>\n",
       "      <td>22720</td>\n",
       "      <td>yasiin bey</td>\n",
       "      <td>In January 2016, rapper/actor Yasiin Bey annou...</td>\n",
       "      <td>rap</td>\n",
       "      <td>awge</td>\n",
       "      <td>december 99th</td>\n",
       "      <td>yasiin bey</td>\n",
       "      <td>http://pitchfork.com/reviews/albums/22720-dece...</td>\n",
       "      <td>3.5</td>\n",
       "      <td>0</td>\n",
       "      <td>marcus j. moore</td>\n",
       "      <td>contributor</td>\n",
       "      <td>2017-01-02</td>\n",
       "      <td>0</td>\n",
       "      <td>2</td>\n",
       "      <td>1</td>\n",
       "      <td>2017</td>\n",
       "      <td>2016.0</td>\n",
       "    </tr>\n",
       "    <tr>\n",
       "      <th>18</th>\n",
       "      <td>22720</td>\n",
       "      <td>yasiin bey</td>\n",
       "      <td>In January 2016, rapper/actor Yasiin Bey annou...</td>\n",
       "      <td>rap</td>\n",
       "      <td>a country called earth</td>\n",
       "      <td>december 99th</td>\n",
       "      <td>yasiin bey</td>\n",
       "      <td>http://pitchfork.com/reviews/albums/22720-dece...</td>\n",
       "      <td>3.5</td>\n",
       "      <td>0</td>\n",
       "      <td>marcus j. moore</td>\n",
       "      <td>contributor</td>\n",
       "      <td>2017-01-02</td>\n",
       "      <td>0</td>\n",
       "      <td>2</td>\n",
       "      <td>1</td>\n",
       "      <td>2017</td>\n",
       "      <td>2016.0</td>\n",
       "    </tr>\n",
       "    <tr>\n",
       "      <th>237</th>\n",
       "      <td>22589</td>\n",
       "      <td>the chainsmokers</td>\n",
       "      <td>Bret Easton Ellis recently said if he were to ...</td>\n",
       "      <td>electronic</td>\n",
       "      <td>disruptor</td>\n",
       "      <td>collage</td>\n",
       "      <td>the chainsmokers</td>\n",
       "      <td>http://pitchfork.com/reviews/albums/22589-coll...</td>\n",
       "      <td>3.5</td>\n",
       "      <td>0</td>\n",
       "      <td>kevin lozano</td>\n",
       "      <td>tracks coordinator</td>\n",
       "      <td>2016-11-09</td>\n",
       "      <td>2</td>\n",
       "      <td>9</td>\n",
       "      <td>11</td>\n",
       "      <td>2016</td>\n",
       "      <td>2016.0</td>\n",
       "    </tr>\n",
       "    <tr>\n",
       "      <th>592</th>\n",
       "      <td>22319</td>\n",
       "      <td>prophets of rage</td>\n",
       "      <td>Picture yourself this past weekend at the Mohe...</td>\n",
       "      <td>rock</td>\n",
       "      <td>caroline</td>\n",
       "      <td>the party's over ep</td>\n",
       "      <td>prophets of rage</td>\n",
       "      <td>http://pitchfork.com/reviews/albums/22319-the-...</td>\n",
       "      <td>2.0</td>\n",
       "      <td>0</td>\n",
       "      <td>ian cohen</td>\n",
       "      <td>contributor</td>\n",
       "      <td>2016-08-31</td>\n",
       "      <td>2</td>\n",
       "      <td>31</td>\n",
       "      <td>8</td>\n",
       "      <td>2016</td>\n",
       "      <td>2016.0</td>\n",
       "    </tr>\n",
       "    <tr>\n",
       "      <th>593</th>\n",
       "      <td>22319</td>\n",
       "      <td>prophets of rage</td>\n",
       "      <td>Picture yourself this past weekend at the Mohe...</td>\n",
       "      <td>rap</td>\n",
       "      <td>caroline</td>\n",
       "      <td>the party's over ep</td>\n",
       "      <td>prophets of rage</td>\n",
       "      <td>http://pitchfork.com/reviews/albums/22319-the-...</td>\n",
       "      <td>2.0</td>\n",
       "      <td>0</td>\n",
       "      <td>ian cohen</td>\n",
       "      <td>contributor</td>\n",
       "      <td>2016-08-31</td>\n",
       "      <td>2</td>\n",
       "      <td>31</td>\n",
       "      <td>8</td>\n",
       "      <td>2016</td>\n",
       "      <td>2016.0</td>\n",
       "    </tr>\n",
       "  </tbody>\n",
       "</table>\n",
       "</div>"
      ],
      "text/plain": [
       "     reviewid            artist  \\\n",
       "17      22720        yasiin bey   \n",
       "18      22720        yasiin bey   \n",
       "237     22589  the chainsmokers   \n",
       "592     22319  prophets of rage   \n",
       "593     22319  prophets of rage   \n",
       "\n",
       "                                               content       genre  \\\n",
       "17   In January 2016, rapper/actor Yasiin Bey annou...         rap   \n",
       "18   In January 2016, rapper/actor Yasiin Bey annou...         rap   \n",
       "237  Bret Easton Ellis recently said if he were to ...  electronic   \n",
       "592  Picture yourself this past weekend at the Mohe...        rock   \n",
       "593  Picture yourself this past weekend at the Mohe...         rap   \n",
       "\n",
       "                      label                title          artist_y  \\\n",
       "17                     awge        december 99th        yasiin bey   \n",
       "18   a country called earth        december 99th        yasiin bey   \n",
       "237               disruptor             collage   the chainsmokers   \n",
       "592                caroline  the party's over ep  prophets of rage   \n",
       "593                caroline  the party's over ep  prophets of rage   \n",
       "\n",
       "                                                   url  score  best_new_music  \\\n",
       "17   http://pitchfork.com/reviews/albums/22720-dece...    3.5               0   \n",
       "18   http://pitchfork.com/reviews/albums/22720-dece...    3.5               0   \n",
       "237  http://pitchfork.com/reviews/albums/22589-coll...    3.5               0   \n",
       "592  http://pitchfork.com/reviews/albums/22319-the-...    2.0               0   \n",
       "593  http://pitchfork.com/reviews/albums/22319-the-...    2.0               0   \n",
       "\n",
       "              author         author_type    pub_date  pub_weekday  pub_day  \\\n",
       "17   marcus j. moore         contributor  2017-01-02            0        2   \n",
       "18   marcus j. moore         contributor  2017-01-02            0        2   \n",
       "237     kevin lozano  tracks coordinator  2016-11-09            2        9   \n",
       "592        ian cohen         contributor  2016-08-31            2       31   \n",
       "593        ian cohen         contributor  2016-08-31            2       31   \n",
       "\n",
       "     pub_month  pub_year    year  \n",
       "17           1      2017  2016.0  \n",
       "18           1      2017  2016.0  \n",
       "237         11      2016  2016.0  \n",
       "592          8      2016  2016.0  \n",
       "593          8      2016  2016.0  "
      ]
     },
     "execution_count": 26,
     "metadata": {},
     "output_type": "execute_result"
    }
   ],
   "source": [
    "df_f.head()"
   ]
  },
  {
   "cell_type": "markdown",
   "metadata": {},
   "source": [
    "## 4) Feature Engineering:\n"
   ]
  },
  {
   "cell_type": "markdown",
   "metadata": {},
   "source": [
    "#### a) Construct a Pandas DataFrame (see problem 2) containing all album reviews and metadata. Remove any rows that have null values in any column."
   ]
  },
  {
   "cell_type": "markdown",
   "metadata": {},
   "source": [
    "Most of the null values are present in the 'year' column"
   ]
  },
  {
   "cell_type": "code",
   "execution_count": 27,
   "metadata": {},
   "outputs": [
    {
     "data": {
      "text/plain": [
       "(27141, 18)"
      ]
     },
     "execution_count": 27,
     "metadata": {},
     "output_type": "execute_result"
    }
   ],
   "source": [
    "# Before dropping 'NA' rows\n",
    "df_pitch.shape"
   ]
  },
  {
   "cell_type": "code",
   "execution_count": 28,
   "metadata": {},
   "outputs": [],
   "source": [
    "df_pitch = df_pitch.dropna()"
   ]
  },
  {
   "cell_type": "code",
   "execution_count": 29,
   "metadata": {},
   "outputs": [
    {
     "data": {
      "text/plain": [
       "(18677, 18)"
      ]
     },
     "execution_count": 29,
     "metadata": {},
     "output_type": "execute_result"
    }
   ],
   "source": [
    "# After dropping 'NA' rows\n",
    "df_pitch.shape"
   ]
  },
  {
   "cell_type": "code",
   "execution_count": 30,
   "metadata": {},
   "outputs": [
    {
     "data": {
      "text/plain": [
       "Index(['reviewid', 'artist', 'content', 'genre', 'label', 'title', 'artist_y',\n",
       "       'url', 'score', 'best_new_music', 'author', 'author_type', 'pub_date',\n",
       "       'pub_weekday', 'pub_day', 'pub_month', 'pub_year', 'year'],\n",
       "      dtype='object')"
      ]
     },
     "execution_count": 30,
     "metadata": {},
     "output_type": "execute_result"
    }
   ],
   "source": [
    "df_pitch.columns"
   ]
  },
  {
   "cell_type": "markdown",
   "metadata": {},
   "source": [
    "#### b) Add a column to the dataframe for each genre. The entry in this column should be a 1 if the album/row in question belongs to that genre and 0 otherwise. Remember that albums can belong to multiple genres."
   ]
  },
  {
   "cell_type": "code",
   "execution_count": 31,
   "metadata": {},
   "outputs": [],
   "source": [
    "enc = OneHotEncoder(handle_unknown='ignore')\n",
    "# passing activity-types-cat column (label encoded values of genre)\n",
    "enc_df = pd.DataFrame(enc.fit_transform(df_pitch[['genre']]).toarray())\n",
    "enc_df.columns = enc.get_feature_names(['genre'])\n",
    "train_df = enc_df"
   ]
  },
  {
   "cell_type": "code",
   "execution_count": 32,
   "metadata": {},
   "outputs": [
    {
     "data": {
      "text/plain": [
       "(18677, 9)"
      ]
     },
     "execution_count": 32,
     "metadata": {},
     "output_type": "execute_result"
    }
   ],
   "source": [
    "train_df.shape"
   ]
  },
  {
   "cell_type": "markdown",
   "metadata": {},
   "source": [
    "#### c) Add an additional two columns with categorical variables for 1) the author of the review and 2) the role of the author."
   ]
  },
  {
   "cell_type": "markdown",
   "metadata": {},
   "source": [
    "LabelEncoder will assign the Labels to the author and author_type to transform the variables into Linear Algebraic Interpretation."
   ]
  },
  {
   "cell_type": "code",
   "execution_count": 33,
   "metadata": {},
   "outputs": [],
   "source": [
    "train_df = df_pitch[['author', 'author_type']].join(enc_df)"
   ]
  },
  {
   "cell_type": "code",
   "execution_count": 34,
   "metadata": {},
   "outputs": [
    {
     "data": {
      "text/plain": [
       "(18677, 11)"
      ]
     },
     "execution_count": 34,
     "metadata": {},
     "output_type": "execute_result"
    }
   ],
   "source": [
    "train_df.shape"
   ]
  },
  {
   "cell_type": "code",
   "execution_count": 35,
   "metadata": {},
   "outputs": [],
   "source": [
    "from sklearn.preprocessing import LabelEncoder\n",
    "labelencoder = LabelEncoder()\n",
    "# Assigning numerical values and storing in another column\n",
    "train_df['author'] = labelencoder.fit_transform(df_pitch['author'])\n",
    "train_df['author_type'] = labelencoder.fit_transform(df_pitch['author_type'])"
   ]
  },
  {
   "cell_type": "markdown",
   "metadata": {},
   "source": [
    "#### d) Create a column for the number of words in the review."
   ]
  },
  {
   "cell_type": "code",
   "execution_count": 36,
   "metadata": {},
   "outputs": [],
   "source": [
    "train_df['count'] = df_pitch['content'].str.split().str.len()"
   ]
  },
  {
   "cell_type": "code",
   "execution_count": 37,
   "metadata": {},
   "outputs": [
    {
     "data": {
      "text/html": [
       "<div>\n",
       "<style scoped>\n",
       "    .dataframe tbody tr th:only-of-type {\n",
       "        vertical-align: middle;\n",
       "    }\n",
       "\n",
       "    .dataframe tbody tr th {\n",
       "        vertical-align: top;\n",
       "    }\n",
       "\n",
       "    .dataframe thead th {\n",
       "        text-align: right;\n",
       "    }\n",
       "</style>\n",
       "<table border=\"1\" class=\"dataframe\">\n",
       "  <thead>\n",
       "    <tr style=\"text-align: right;\">\n",
       "      <th></th>\n",
       "      <th>author</th>\n",
       "      <th>author_type</th>\n",
       "      <th>genre_electronic</th>\n",
       "      <th>genre_experimental</th>\n",
       "      <th>genre_folk/country</th>\n",
       "      <th>genre_global</th>\n",
       "      <th>genre_jazz</th>\n",
       "      <th>genre_metal</th>\n",
       "      <th>genre_pop/r&amp;b</th>\n",
       "      <th>genre_rap</th>\n",
       "      <th>genre_rock</th>\n",
       "      <th>count</th>\n",
       "    </tr>\n",
       "  </thead>\n",
       "  <tbody>\n",
       "    <tr>\n",
       "      <th>0</th>\n",
       "      <td>171</td>\n",
       "      <td>6</td>\n",
       "      <td>1.0</td>\n",
       "      <td>0.0</td>\n",
       "      <td>0.0</td>\n",
       "      <td>0.0</td>\n",
       "      <td>0.0</td>\n",
       "      <td>0.0</td>\n",
       "      <td>0.0</td>\n",
       "      <td>0.0</td>\n",
       "      <td>0.0</td>\n",
       "      <td>1456</td>\n",
       "    </tr>\n",
       "    <tr>\n",
       "      <th>1</th>\n",
       "      <td>245</td>\n",
       "      <td>6</td>\n",
       "      <td>0.0</td>\n",
       "      <td>0.0</td>\n",
       "      <td>0.0</td>\n",
       "      <td>0.0</td>\n",
       "      <td>0.0</td>\n",
       "      <td>1.0</td>\n",
       "      <td>0.0</td>\n",
       "      <td>0.0</td>\n",
       "      <td>0.0</td>\n",
       "      <td>419</td>\n",
       "    </tr>\n",
       "    <tr>\n",
       "      <th>2</th>\n",
       "      <td>52</td>\n",
       "      <td>6</td>\n",
       "      <td>0.0</td>\n",
       "      <td>0.0</td>\n",
       "      <td>0.0</td>\n",
       "      <td>0.0</td>\n",
       "      <td>0.0</td>\n",
       "      <td>0.0</td>\n",
       "      <td>0.0</td>\n",
       "      <td>0.0</td>\n",
       "      <td>1.0</td>\n",
       "      <td>597</td>\n",
       "    </tr>\n",
       "    <tr>\n",
       "      <th>3</th>\n",
       "      <td>52</td>\n",
       "      <td>6</td>\n",
       "      <td>0.0</td>\n",
       "      <td>0.0</td>\n",
       "      <td>0.0</td>\n",
       "      <td>0.0</td>\n",
       "      <td>0.0</td>\n",
       "      <td>0.0</td>\n",
       "      <td>0.0</td>\n",
       "      <td>0.0</td>\n",
       "      <td>1.0</td>\n",
       "      <td>597</td>\n",
       "    </tr>\n",
       "    <tr>\n",
       "      <th>4</th>\n",
       "      <td>95</td>\n",
       "      <td>3</td>\n",
       "      <td>0.0</td>\n",
       "      <td>0.0</td>\n",
       "      <td>0.0</td>\n",
       "      <td>0.0</td>\n",
       "      <td>0.0</td>\n",
       "      <td>0.0</td>\n",
       "      <td>0.0</td>\n",
       "      <td>0.0</td>\n",
       "      <td>1.0</td>\n",
       "      <td>1240</td>\n",
       "    </tr>\n",
       "  </tbody>\n",
       "</table>\n",
       "</div>"
      ],
      "text/plain": [
       "   author  author_type  genre_electronic  genre_experimental  \\\n",
       "0     171            6               1.0                 0.0   \n",
       "1     245            6               0.0                 0.0   \n",
       "2      52            6               0.0                 0.0   \n",
       "3      52            6               0.0                 0.0   \n",
       "4      95            3               0.0                 0.0   \n",
       "\n",
       "   genre_folk/country  genre_global  genre_jazz  genre_metal  genre_pop/r&b  \\\n",
       "0                 0.0           0.0         0.0          0.0            0.0   \n",
       "1                 0.0           0.0         0.0          1.0            0.0   \n",
       "2                 0.0           0.0         0.0          0.0            0.0   \n",
       "3                 0.0           0.0         0.0          0.0            0.0   \n",
       "4                 0.0           0.0         0.0          0.0            0.0   \n",
       "\n",
       "   genre_rap  genre_rock  count  \n",
       "0        0.0         0.0   1456  \n",
       "1        0.0         0.0    419  \n",
       "2        0.0         1.0    597  \n",
       "3        0.0         1.0    597  \n",
       "4        0.0         1.0   1240  "
      ]
     },
     "execution_count": 37,
     "metadata": {},
     "output_type": "execute_result"
    }
   ],
   "source": [
    "train_df.head()"
   ]
  },
  {
   "cell_type": "markdown",
   "metadata": {},
   "source": [
    "#### e) Create a column containing the sentiment score of the review. Treat the review as a single string and take the TextBlob polarity score (https://textblob.readthedocs.io/en/dev/quickstart.html)."
   ]
  },
  {
   "cell_type": "code",
   "execution_count": 38,
   "metadata": {},
   "outputs": [],
   "source": [
    "def sentiment_calc(text):\n",
    "    return TextBlob(text).sentiment.polarity\n",
    "    \n",
    "train_df['sentiment'] = df_pitch['content'].apply(sentiment_calc)"
   ]
  },
  {
   "cell_type": "code",
   "execution_count": 39,
   "metadata": {},
   "outputs": [
    {
     "data": {
      "text/html": [
       "<div>\n",
       "<style scoped>\n",
       "    .dataframe tbody tr th:only-of-type {\n",
       "        vertical-align: middle;\n",
       "    }\n",
       "\n",
       "    .dataframe tbody tr th {\n",
       "        vertical-align: top;\n",
       "    }\n",
       "\n",
       "    .dataframe thead th {\n",
       "        text-align: right;\n",
       "    }\n",
       "</style>\n",
       "<table border=\"1\" class=\"dataframe\">\n",
       "  <thead>\n",
       "    <tr style=\"text-align: right;\">\n",
       "      <th></th>\n",
       "      <th>author</th>\n",
       "      <th>author_type</th>\n",
       "      <th>genre_electronic</th>\n",
       "      <th>genre_experimental</th>\n",
       "      <th>genre_folk/country</th>\n",
       "      <th>genre_global</th>\n",
       "      <th>genre_jazz</th>\n",
       "      <th>genre_metal</th>\n",
       "      <th>genre_pop/r&amp;b</th>\n",
       "      <th>genre_rap</th>\n",
       "      <th>genre_rock</th>\n",
       "      <th>count</th>\n",
       "      <th>sentiment</th>\n",
       "    </tr>\n",
       "  </thead>\n",
       "  <tbody>\n",
       "    <tr>\n",
       "      <th>0</th>\n",
       "      <td>171</td>\n",
       "      <td>6</td>\n",
       "      <td>1.0</td>\n",
       "      <td>0.0</td>\n",
       "      <td>0.0</td>\n",
       "      <td>0.0</td>\n",
       "      <td>0.0</td>\n",
       "      <td>0.0</td>\n",
       "      <td>0.0</td>\n",
       "      <td>0.0</td>\n",
       "      <td>0.0</td>\n",
       "      <td>1456</td>\n",
       "      <td>0.097281</td>\n",
       "    </tr>\n",
       "    <tr>\n",
       "      <th>1</th>\n",
       "      <td>245</td>\n",
       "      <td>6</td>\n",
       "      <td>0.0</td>\n",
       "      <td>0.0</td>\n",
       "      <td>0.0</td>\n",
       "      <td>0.0</td>\n",
       "      <td>0.0</td>\n",
       "      <td>1.0</td>\n",
       "      <td>0.0</td>\n",
       "      <td>0.0</td>\n",
       "      <td>0.0</td>\n",
       "      <td>419</td>\n",
       "      <td>0.041640</td>\n",
       "    </tr>\n",
       "    <tr>\n",
       "      <th>2</th>\n",
       "      <td>52</td>\n",
       "      <td>6</td>\n",
       "      <td>0.0</td>\n",
       "      <td>0.0</td>\n",
       "      <td>0.0</td>\n",
       "      <td>0.0</td>\n",
       "      <td>0.0</td>\n",
       "      <td>0.0</td>\n",
       "      <td>0.0</td>\n",
       "      <td>0.0</td>\n",
       "      <td>1.0</td>\n",
       "      <td>597</td>\n",
       "      <td>0.123304</td>\n",
       "    </tr>\n",
       "    <tr>\n",
       "      <th>3</th>\n",
       "      <td>52</td>\n",
       "      <td>6</td>\n",
       "      <td>0.0</td>\n",
       "      <td>0.0</td>\n",
       "      <td>0.0</td>\n",
       "      <td>0.0</td>\n",
       "      <td>0.0</td>\n",
       "      <td>0.0</td>\n",
       "      <td>0.0</td>\n",
       "      <td>0.0</td>\n",
       "      <td>1.0</td>\n",
       "      <td>597</td>\n",
       "      <td>0.123304</td>\n",
       "    </tr>\n",
       "    <tr>\n",
       "      <th>4</th>\n",
       "      <td>95</td>\n",
       "      <td>3</td>\n",
       "      <td>0.0</td>\n",
       "      <td>0.0</td>\n",
       "      <td>0.0</td>\n",
       "      <td>0.0</td>\n",
       "      <td>0.0</td>\n",
       "      <td>0.0</td>\n",
       "      <td>0.0</td>\n",
       "      <td>0.0</td>\n",
       "      <td>1.0</td>\n",
       "      <td>1240</td>\n",
       "      <td>0.161576</td>\n",
       "    </tr>\n",
       "  </tbody>\n",
       "</table>\n",
       "</div>"
      ],
      "text/plain": [
       "   author  author_type  genre_electronic  genre_experimental  \\\n",
       "0     171            6               1.0                 0.0   \n",
       "1     245            6               0.0                 0.0   \n",
       "2      52            6               0.0                 0.0   \n",
       "3      52            6               0.0                 0.0   \n",
       "4      95            3               0.0                 0.0   \n",
       "\n",
       "   genre_folk/country  genre_global  genre_jazz  genre_metal  genre_pop/r&b  \\\n",
       "0                 0.0           0.0         0.0          0.0            0.0   \n",
       "1                 0.0           0.0         0.0          1.0            0.0   \n",
       "2                 0.0           0.0         0.0          0.0            0.0   \n",
       "3                 0.0           0.0         0.0          0.0            0.0   \n",
       "4                 0.0           0.0         0.0          0.0            0.0   \n",
       "\n",
       "   genre_rap  genre_rock  count  sentiment  \n",
       "0        0.0         0.0   1456   0.097281  \n",
       "1        0.0         0.0    419   0.041640  \n",
       "2        0.0         1.0    597   0.123304  \n",
       "3        0.0         1.0    597   0.123304  \n",
       "4        0.0         1.0   1240   0.161576  "
      ]
     },
     "execution_count": 39,
     "metadata": {},
     "output_type": "execute_result"
    }
   ],
   "source": [
    "train_df.head()"
   ]
  },
  {
   "cell_type": "markdown",
   "metadata": {},
   "source": [
    "## 5) Logistic Regression: \n",
    "\n",
    "You will now use the features you constructed in the previous exercise to complete a binary logistic regression task accounting for whether an album reviews Pitchfork’s designation of “Best New Music.” This is represented by the binary “bnm” variable in the dataset. \n"
   ]
  },
  {
   "cell_type": "markdown",
   "metadata": {},
   "source": [
    "#### a) Scale all non-categorical variables as needed.\n",
    "\n",
    "We have two non-categorical variables i.e. count and sentiment. These two variables are nominal variables and should be standardized to use in the logistic regression models. standardization (or Z-score normalization) means centering the variable at zero and standardizing the variance at 1. The procedure involves subtracting the mean of each observation and then dividing by the standard deviation"
   ]
  },
  {
   "cell_type": "code",
   "execution_count": 40,
   "metadata": {},
   "outputs": [],
   "source": [
    "scaler = StandardScaler() "
   ]
  },
  {
   "cell_type": "code",
   "execution_count": 41,
   "metadata": {},
   "outputs": [],
   "source": [
    "data = train_df.iloc[:,-2:]"
   ]
  },
  {
   "cell_type": "code",
   "execution_count": 42,
   "metadata": {},
   "outputs": [],
   "source": [
    "data = scaler.fit_transform(data.values)"
   ]
  },
  {
   "cell_type": "code",
   "execution_count": 43,
   "metadata": {},
   "outputs": [],
   "source": [
    "train_df[['count','sentiment']] = pd.DataFrame(data)"
   ]
  },
  {
   "cell_type": "code",
   "execution_count": 44,
   "metadata": {},
   "outputs": [
    {
     "data": {
      "text/html": [
       "<div>\n",
       "<style scoped>\n",
       "    .dataframe tbody tr th:only-of-type {\n",
       "        vertical-align: middle;\n",
       "    }\n",
       "\n",
       "    .dataframe tbody tr th {\n",
       "        vertical-align: top;\n",
       "    }\n",
       "\n",
       "    .dataframe thead th {\n",
       "        text-align: right;\n",
       "    }\n",
       "</style>\n",
       "<table border=\"1\" class=\"dataframe\">\n",
       "  <thead>\n",
       "    <tr style=\"text-align: right;\">\n",
       "      <th></th>\n",
       "      <th>author</th>\n",
       "      <th>author_type</th>\n",
       "      <th>genre_electronic</th>\n",
       "      <th>genre_experimental</th>\n",
       "      <th>genre_folk/country</th>\n",
       "      <th>genre_global</th>\n",
       "      <th>genre_jazz</th>\n",
       "      <th>genre_metal</th>\n",
       "      <th>genre_pop/r&amp;b</th>\n",
       "      <th>genre_rap</th>\n",
       "      <th>genre_rock</th>\n",
       "      <th>count</th>\n",
       "      <th>sentiment</th>\n",
       "    </tr>\n",
       "  </thead>\n",
       "  <tbody>\n",
       "    <tr>\n",
       "      <th>0</th>\n",
       "      <td>171</td>\n",
       "      <td>6</td>\n",
       "      <td>1.0</td>\n",
       "      <td>0.0</td>\n",
       "      <td>0.0</td>\n",
       "      <td>0.0</td>\n",
       "      <td>0.0</td>\n",
       "      <td>0.0</td>\n",
       "      <td>0.0</td>\n",
       "      <td>0.0</td>\n",
       "      <td>0.0</td>\n",
       "      <td>3.080366</td>\n",
       "      <td>-0.423479</td>\n",
       "    </tr>\n",
       "    <tr>\n",
       "      <th>1</th>\n",
       "      <td>245</td>\n",
       "      <td>6</td>\n",
       "      <td>0.0</td>\n",
       "      <td>0.0</td>\n",
       "      <td>0.0</td>\n",
       "      <td>0.0</td>\n",
       "      <td>0.0</td>\n",
       "      <td>1.0</td>\n",
       "      <td>0.0</td>\n",
       "      <td>0.0</td>\n",
       "      <td>0.0</td>\n",
       "      <td>-1.018138</td>\n",
       "      <td>-1.408675</td>\n",
       "    </tr>\n",
       "    <tr>\n",
       "      <th>2</th>\n",
       "      <td>52</td>\n",
       "      <td>6</td>\n",
       "      <td>0.0</td>\n",
       "      <td>0.0</td>\n",
       "      <td>0.0</td>\n",
       "      <td>0.0</td>\n",
       "      <td>0.0</td>\n",
       "      <td>0.0</td>\n",
       "      <td>0.0</td>\n",
       "      <td>0.0</td>\n",
       "      <td>1.0</td>\n",
       "      <td>-0.314634</td>\n",
       "      <td>0.037290</td>\n",
       "    </tr>\n",
       "    <tr>\n",
       "      <th>3</th>\n",
       "      <td>52</td>\n",
       "      <td>6</td>\n",
       "      <td>0.0</td>\n",
       "      <td>0.0</td>\n",
       "      <td>0.0</td>\n",
       "      <td>0.0</td>\n",
       "      <td>0.0</td>\n",
       "      <td>0.0</td>\n",
       "      <td>0.0</td>\n",
       "      <td>0.0</td>\n",
       "      <td>1.0</td>\n",
       "      <td>-0.314634</td>\n",
       "      <td>0.037290</td>\n",
       "    </tr>\n",
       "    <tr>\n",
       "      <th>4</th>\n",
       "      <td>95</td>\n",
       "      <td>3</td>\n",
       "      <td>0.0</td>\n",
       "      <td>0.0</td>\n",
       "      <td>0.0</td>\n",
       "      <td>0.0</td>\n",
       "      <td>0.0</td>\n",
       "      <td>0.0</td>\n",
       "      <td>0.0</td>\n",
       "      <td>0.0</td>\n",
       "      <td>1.0</td>\n",
       "      <td>2.226676</td>\n",
       "      <td>0.714940</td>\n",
       "    </tr>\n",
       "  </tbody>\n",
       "</table>\n",
       "</div>"
      ],
      "text/plain": [
       "   author  author_type  genre_electronic  genre_experimental  \\\n",
       "0     171            6               1.0                 0.0   \n",
       "1     245            6               0.0                 0.0   \n",
       "2      52            6               0.0                 0.0   \n",
       "3      52            6               0.0                 0.0   \n",
       "4      95            3               0.0                 0.0   \n",
       "\n",
       "   genre_folk/country  genre_global  genre_jazz  genre_metal  genre_pop/r&b  \\\n",
       "0                 0.0           0.0         0.0          0.0            0.0   \n",
       "1                 0.0           0.0         0.0          1.0            0.0   \n",
       "2                 0.0           0.0         0.0          0.0            0.0   \n",
       "3                 0.0           0.0         0.0          0.0            0.0   \n",
       "4                 0.0           0.0         0.0          0.0            0.0   \n",
       "\n",
       "   genre_rap  genre_rock     count  sentiment  \n",
       "0        0.0         0.0  3.080366  -0.423479  \n",
       "1        0.0         0.0 -1.018138  -1.408675  \n",
       "2        0.0         1.0 -0.314634   0.037290  \n",
       "3        0.0         1.0 -0.314634   0.037290  \n",
       "4        0.0         1.0  2.226676   0.714940  "
      ]
     },
     "execution_count": 44,
     "metadata": {},
     "output_type": "execute_result"
    }
   ],
   "source": [
    "train_df.head()"
   ]
  },
  {
   "cell_type": "markdown",
   "metadata": {},
   "source": [
    "#### b) Perform your logistic regression model using the statsmodel library (https://www.pythonfordatascience.org/logistic-regression-python/ ). Treat the best new music variable as your dependent variable and use the release year, word count, sentiment, all genre binary variables, author, and author role as your independent variables"
   ]
  },
  {
   "cell_type": "code",
   "execution_count": 45,
   "metadata": {},
   "outputs": [],
   "source": [
    "train_df[['bnm','year']] = df_pitch[['best_new_music', 'pub_year']]"
   ]
  },
  {
   "cell_type": "code",
   "execution_count": 46,
   "metadata": {},
   "outputs": [
    {
     "data": {
      "text/html": [
       "<div>\n",
       "<style scoped>\n",
       "    .dataframe tbody tr th:only-of-type {\n",
       "        vertical-align: middle;\n",
       "    }\n",
       "\n",
       "    .dataframe tbody tr th {\n",
       "        vertical-align: top;\n",
       "    }\n",
       "\n",
       "    .dataframe thead th {\n",
       "        text-align: right;\n",
       "    }\n",
       "</style>\n",
       "<table border=\"1\" class=\"dataframe\">\n",
       "  <thead>\n",
       "    <tr style=\"text-align: right;\">\n",
       "      <th></th>\n",
       "      <th>author</th>\n",
       "      <th>author_type</th>\n",
       "      <th>genre_electronic</th>\n",
       "      <th>genre_experimental</th>\n",
       "      <th>genre_folk/country</th>\n",
       "      <th>genre_global</th>\n",
       "      <th>genre_jazz</th>\n",
       "      <th>genre_metal</th>\n",
       "      <th>genre_pop/r&amp;b</th>\n",
       "      <th>genre_rap</th>\n",
       "      <th>genre_rock</th>\n",
       "      <th>count</th>\n",
       "      <th>sentiment</th>\n",
       "      <th>bnm</th>\n",
       "      <th>year</th>\n",
       "    </tr>\n",
       "  </thead>\n",
       "  <tbody>\n",
       "    <tr>\n",
       "      <th>0</th>\n",
       "      <td>171</td>\n",
       "      <td>6</td>\n",
       "      <td>1.0</td>\n",
       "      <td>0.0</td>\n",
       "      <td>0.0</td>\n",
       "      <td>0.0</td>\n",
       "      <td>0.0</td>\n",
       "      <td>0.0</td>\n",
       "      <td>0.0</td>\n",
       "      <td>0.0</td>\n",
       "      <td>0.0</td>\n",
       "      <td>3.080366</td>\n",
       "      <td>-0.423479</td>\n",
       "      <td>0</td>\n",
       "      <td>2017</td>\n",
       "    </tr>\n",
       "    <tr>\n",
       "      <th>1</th>\n",
       "      <td>245</td>\n",
       "      <td>6</td>\n",
       "      <td>0.0</td>\n",
       "      <td>0.0</td>\n",
       "      <td>0.0</td>\n",
       "      <td>0.0</td>\n",
       "      <td>0.0</td>\n",
       "      <td>1.0</td>\n",
       "      <td>0.0</td>\n",
       "      <td>0.0</td>\n",
       "      <td>0.0</td>\n",
       "      <td>-1.018138</td>\n",
       "      <td>-1.408675</td>\n",
       "      <td>0</td>\n",
       "      <td>2017</td>\n",
       "    </tr>\n",
       "    <tr>\n",
       "      <th>2</th>\n",
       "      <td>52</td>\n",
       "      <td>6</td>\n",
       "      <td>0.0</td>\n",
       "      <td>0.0</td>\n",
       "      <td>0.0</td>\n",
       "      <td>0.0</td>\n",
       "      <td>0.0</td>\n",
       "      <td>0.0</td>\n",
       "      <td>0.0</td>\n",
       "      <td>0.0</td>\n",
       "      <td>1.0</td>\n",
       "      <td>-0.314634</td>\n",
       "      <td>0.037290</td>\n",
       "      <td>0</td>\n",
       "      <td>2017</td>\n",
       "    </tr>\n",
       "    <tr>\n",
       "      <th>3</th>\n",
       "      <td>52</td>\n",
       "      <td>6</td>\n",
       "      <td>0.0</td>\n",
       "      <td>0.0</td>\n",
       "      <td>0.0</td>\n",
       "      <td>0.0</td>\n",
       "      <td>0.0</td>\n",
       "      <td>0.0</td>\n",
       "      <td>0.0</td>\n",
       "      <td>0.0</td>\n",
       "      <td>1.0</td>\n",
       "      <td>-0.314634</td>\n",
       "      <td>0.037290</td>\n",
       "      <td>0</td>\n",
       "      <td>2017</td>\n",
       "    </tr>\n",
       "    <tr>\n",
       "      <th>4</th>\n",
       "      <td>95</td>\n",
       "      <td>3</td>\n",
       "      <td>0.0</td>\n",
       "      <td>0.0</td>\n",
       "      <td>0.0</td>\n",
       "      <td>0.0</td>\n",
       "      <td>0.0</td>\n",
       "      <td>0.0</td>\n",
       "      <td>0.0</td>\n",
       "      <td>0.0</td>\n",
       "      <td>1.0</td>\n",
       "      <td>2.226676</td>\n",
       "      <td>0.714940</td>\n",
       "      <td>1</td>\n",
       "      <td>2017</td>\n",
       "    </tr>\n",
       "  </tbody>\n",
       "</table>\n",
       "</div>"
      ],
      "text/plain": [
       "   author  author_type  genre_electronic  genre_experimental  \\\n",
       "0     171            6               1.0                 0.0   \n",
       "1     245            6               0.0                 0.0   \n",
       "2      52            6               0.0                 0.0   \n",
       "3      52            6               0.0                 0.0   \n",
       "4      95            3               0.0                 0.0   \n",
       "\n",
       "   genre_folk/country  genre_global  genre_jazz  genre_metal  genre_pop/r&b  \\\n",
       "0                 0.0           0.0         0.0          0.0            0.0   \n",
       "1                 0.0           0.0         0.0          1.0            0.0   \n",
       "2                 0.0           0.0         0.0          0.0            0.0   \n",
       "3                 0.0           0.0         0.0          0.0            0.0   \n",
       "4                 0.0           0.0         0.0          0.0            0.0   \n",
       "\n",
       "   genre_rap  genre_rock     count  sentiment  bnm  year  \n",
       "0        0.0         0.0  3.080366  -0.423479    0  2017  \n",
       "1        0.0         0.0 -1.018138  -1.408675    0  2017  \n",
       "2        0.0         1.0 -0.314634   0.037290    0  2017  \n",
       "3        0.0         1.0 -0.314634   0.037290    0  2017  \n",
       "4        0.0         1.0  2.226676   0.714940    1  2017  "
      ]
     },
     "execution_count": 46,
     "metadata": {},
     "output_type": "execute_result"
    }
   ],
   "source": [
    "train_df.head()"
   ]
  },
  {
   "cell_type": "code",
   "execution_count": 47,
   "metadata": {},
   "outputs": [],
   "source": [
    "model = smf.logit('''bnm ~ count+ sentiment + year + Q(\"genre_electronic\") +\n",
    "                  Q(\"genre_experimental\") + Q(\"genre_folk/country\") + Q(\"genre_global\") +\n",
    "                  Q(\"genre_jazz\") + Q(\"genre_metal\") + Q(\"genre_pop/r&b\") + Q(\"genre_rap\") + Q(\"genre_rock\")\n",
    "                  + Q(\"author_type\") + author ''', data = train_df)"
   ]
  },
  {
   "cell_type": "code",
   "execution_count": 48,
   "metadata": {},
   "outputs": [
    {
     "name": "stdout",
     "output_type": "stream",
     "text": [
      "Optimization terminated successfully.\n",
      "         Current function value: 0.286205\n",
      "         Iterations 8\n"
     ]
    },
    {
     "data": {
      "text/html": [
       "<table class=\"simpletable\">\n",
       "<caption>Logit Regression Results</caption>\n",
       "<tr>\n",
       "  <th>Dep. Variable:</th>          <td>bnm</td>       <th>  No. Observations:  </th>  <td> 14415</td>  \n",
       "</tr>\n",
       "<tr>\n",
       "  <th>Model:</th>                 <td>Logit</td>      <th>  Df Residuals:      </th>  <td> 14401</td>  \n",
       "</tr>\n",
       "<tr>\n",
       "  <th>Method:</th>                 <td>MLE</td>       <th>  Df Model:          </th>  <td>    13</td>  \n",
       "</tr>\n",
       "<tr>\n",
       "  <th>Date:</th>            <td>Sat, 02 Oct 2021</td> <th>  Pseudo R-squ.:     </th>  <td>0.02343</td> \n",
       "</tr>\n",
       "<tr>\n",
       "  <th>Time:</th>                <td>23:36:47</td>     <th>  Log-Likelihood:    </th> <td> -4125.6</td> \n",
       "</tr>\n",
       "<tr>\n",
       "  <th>converged:</th>             <td>True</td>       <th>  LL-Null:           </th> <td> -4224.6</td> \n",
       "</tr>\n",
       "<tr>\n",
       "  <th>Covariance Type:</th>     <td>nonrobust</td>    <th>  LLR p-value:       </th> <td>3.578e-35</td>\n",
       "</tr>\n",
       "</table>\n",
       "<table class=\"simpletable\">\n",
       "<tr>\n",
       "             <td></td>                <th>coef</th>     <th>std err</th>      <th>z</th>      <th>P>|z|</th>  <th>[0.025</th>    <th>0.975]</th>  \n",
       "</tr>\n",
       "<tr>\n",
       "  <th>Intercept</th>               <td> -178.2366</td> <td>      nan</td> <td>      nan</td> <td>   nan</td> <td>      nan</td> <td>      nan</td>\n",
       "</tr>\n",
       "<tr>\n",
       "  <th>count</th>                   <td>    0.0168</td> <td>    0.028</td> <td>    0.596</td> <td> 0.551</td> <td>   -0.039</td> <td>    0.072</td>\n",
       "</tr>\n",
       "<tr>\n",
       "  <th>sentiment</th>               <td>    0.0448</td> <td>    0.031</td> <td>    1.463</td> <td> 0.144</td> <td>   -0.015</td> <td>    0.105</td>\n",
       "</tr>\n",
       "<tr>\n",
       "  <th>year</th>                    <td>    0.0967</td> <td>    0.010</td> <td>    9.512</td> <td> 0.000</td> <td>    0.077</td> <td>    0.117</td>\n",
       "</tr>\n",
       "<tr>\n",
       "  <th>Q(\"genre_electronic\")</th>   <td>  -19.7988</td> <td>      nan</td> <td>      nan</td> <td>   nan</td> <td>      nan</td> <td>      nan</td>\n",
       "</tr>\n",
       "<tr>\n",
       "  <th>Q(\"genre_experimental\")</th> <td>  -19.6846</td> <td>      nan</td> <td>      nan</td> <td>   nan</td> <td>      nan</td> <td>      nan</td>\n",
       "</tr>\n",
       "<tr>\n",
       "  <th>Q(\"genre_folk/country\")</th> <td>  -19.6769</td> <td>      nan</td> <td>      nan</td> <td>   nan</td> <td>      nan</td> <td>      nan</td>\n",
       "</tr>\n",
       "<tr>\n",
       "  <th>Q(\"genre_global\")</th>       <td>  -19.8159</td> <td>      nan</td> <td>      nan</td> <td>   nan</td> <td>      nan</td> <td>      nan</td>\n",
       "</tr>\n",
       "<tr>\n",
       "  <th>Q(\"genre_jazz\")</th>         <td>  -19.8144</td> <td>      nan</td> <td>      nan</td> <td>   nan</td> <td>      nan</td> <td>      nan</td>\n",
       "</tr>\n",
       "<tr>\n",
       "  <th>Q(\"genre_metal\")</th>        <td>  -19.9569</td> <td>      nan</td> <td>      nan</td> <td>   nan</td> <td>      nan</td> <td>      nan</td>\n",
       "</tr>\n",
       "<tr>\n",
       "  <th>Q(\"genre_pop/r&b\")</th>      <td>  -19.8411</td> <td>      nan</td> <td>      nan</td> <td>   nan</td> <td>      nan</td> <td>      nan</td>\n",
       "</tr>\n",
       "<tr>\n",
       "  <th>Q(\"genre_rap\")</th>          <td>  -19.8919</td> <td>      nan</td> <td>      nan</td> <td>   nan</td> <td>      nan</td> <td>      nan</td>\n",
       "</tr>\n",
       "<tr>\n",
       "  <th>Q(\"genre_rock\")</th>         <td>  -19.7560</td> <td>      nan</td> <td>      nan</td> <td>   nan</td> <td>      nan</td> <td>      nan</td>\n",
       "</tr>\n",
       "<tr>\n",
       "  <th>Q(\"author_type\")</th>        <td>    0.1393</td> <td>    0.013</td> <td>   10.974</td> <td> 0.000</td> <td>    0.114</td> <td>    0.164</td>\n",
       "</tr>\n",
       "<tr>\n",
       "  <th>author</th>                  <td>    0.0013</td> <td>    0.000</td> <td>    3.009</td> <td> 0.003</td> <td>    0.000</td> <td>    0.002</td>\n",
       "</tr>\n",
       "</table>"
      ],
      "text/plain": [
       "<class 'statsmodels.iolib.summary.Summary'>\n",
       "\"\"\"\n",
       "                           Logit Regression Results                           \n",
       "==============================================================================\n",
       "Dep. Variable:                    bnm   No. Observations:                14415\n",
       "Model:                          Logit   Df Residuals:                    14401\n",
       "Method:                           MLE   Df Model:                           13\n",
       "Date:                Sat, 02 Oct 2021   Pseudo R-squ.:                 0.02343\n",
       "Time:                        23:36:47   Log-Likelihood:                -4125.6\n",
       "converged:                       True   LL-Null:                       -4224.6\n",
       "Covariance Type:            nonrobust   LLR p-value:                 3.578e-35\n",
       "===========================================================================================\n",
       "                              coef    std err          z      P>|z|      [0.025      0.975]\n",
       "-------------------------------------------------------------------------------------------\n",
       "Intercept                -178.2366        nan        nan        nan         nan         nan\n",
       "count                       0.0168      0.028      0.596      0.551      -0.039       0.072\n",
       "sentiment                   0.0448      0.031      1.463      0.144      -0.015       0.105\n",
       "year                        0.0967      0.010      9.512      0.000       0.077       0.117\n",
       "Q(\"genre_electronic\")     -19.7988        nan        nan        nan         nan         nan\n",
       "Q(\"genre_experimental\")   -19.6846        nan        nan        nan         nan         nan\n",
       "Q(\"genre_folk/country\")   -19.6769        nan        nan        nan         nan         nan\n",
       "Q(\"genre_global\")         -19.8159        nan        nan        nan         nan         nan\n",
       "Q(\"genre_jazz\")           -19.8144        nan        nan        nan         nan         nan\n",
       "Q(\"genre_metal\")          -19.9569        nan        nan        nan         nan         nan\n",
       "Q(\"genre_pop/r&b\")        -19.8411        nan        nan        nan         nan         nan\n",
       "Q(\"genre_rap\")            -19.8919        nan        nan        nan         nan         nan\n",
       "Q(\"genre_rock\")           -19.7560        nan        nan        nan         nan         nan\n",
       "Q(\"author_type\")            0.1393      0.013     10.974      0.000       0.114       0.164\n",
       "author                      0.0013      0.000      3.009      0.003       0.000       0.002\n",
       "===========================================================================================\n",
       "\"\"\""
      ]
     },
     "execution_count": 48,
     "metadata": {},
     "output_type": "execute_result"
    }
   ],
   "source": [
    "results = model.fit()\n",
    "results.summary()"
   ]
  },
  {
   "cell_type": "markdown",
   "metadata": {},
   "source": [
    "#### c) Calculate the odds ratios for your independent variables"
   ]
  },
  {
   "cell_type": "code",
   "execution_count": 49,
   "metadata": {},
   "outputs": [
    {
     "data": {
      "text/html": [
       "<div>\n",
       "<style scoped>\n",
       "    .dataframe tbody tr th:only-of-type {\n",
       "        vertical-align: middle;\n",
       "    }\n",
       "\n",
       "    .dataframe tbody tr th {\n",
       "        vertical-align: top;\n",
       "    }\n",
       "\n",
       "    .dataframe thead th {\n",
       "        text-align: right;\n",
       "    }\n",
       "</style>\n",
       "<table border=\"1\" class=\"dataframe\">\n",
       "  <thead>\n",
       "    <tr style=\"text-align: right;\">\n",
       "      <th></th>\n",
       "      <th>coef</th>\n",
       "      <th>odds ratio</th>\n",
       "      <th>name</th>\n",
       "    </tr>\n",
       "  </thead>\n",
       "  <tbody>\n",
       "    <tr>\n",
       "      <th>0</th>\n",
       "      <td>-178.236588</td>\n",
       "      <td>3.915918e-78</td>\n",
       "      <td>Intercept</td>\n",
       "    </tr>\n",
       "    <tr>\n",
       "      <th>1</th>\n",
       "      <td>0.016845</td>\n",
       "      <td>1.016988e+00</td>\n",
       "      <td>count</td>\n",
       "    </tr>\n",
       "    <tr>\n",
       "      <th>2</th>\n",
       "      <td>0.044799</td>\n",
       "      <td>1.045818e+00</td>\n",
       "      <td>sentiment</td>\n",
       "    </tr>\n",
       "    <tr>\n",
       "      <th>3</th>\n",
       "      <td>0.096706</td>\n",
       "      <td>1.101536e+00</td>\n",
       "      <td>year</td>\n",
       "    </tr>\n",
       "    <tr>\n",
       "      <th>4</th>\n",
       "      <td>-19.798843</td>\n",
       "      <td>2.520412e-09</td>\n",
       "      <td>Q(\"genre_electronic\")</td>\n",
       "    </tr>\n",
       "    <tr>\n",
       "      <th>5</th>\n",
       "      <td>-19.684559</td>\n",
       "      <td>2.825560e-09</td>\n",
       "      <td>Q(\"genre_experimental\")</td>\n",
       "    </tr>\n",
       "    <tr>\n",
       "      <th>6</th>\n",
       "      <td>-19.676926</td>\n",
       "      <td>2.847211e-09</td>\n",
       "      <td>Q(\"genre_folk/country\")</td>\n",
       "    </tr>\n",
       "    <tr>\n",
       "      <th>7</th>\n",
       "      <td>-19.815881</td>\n",
       "      <td>2.477835e-09</td>\n",
       "      <td>Q(\"genre_global\")</td>\n",
       "    </tr>\n",
       "    <tr>\n",
       "      <th>8</th>\n",
       "      <td>-19.814424</td>\n",
       "      <td>2.481447e-09</td>\n",
       "      <td>Q(\"genre_jazz\")</td>\n",
       "    </tr>\n",
       "    <tr>\n",
       "      <th>9</th>\n",
       "      <td>-19.956932</td>\n",
       "      <td>2.151862e-09</td>\n",
       "      <td>Q(\"genre_metal\")</td>\n",
       "    </tr>\n",
       "    <tr>\n",
       "      <th>10</th>\n",
       "      <td>-19.841093</td>\n",
       "      <td>2.416143e-09</td>\n",
       "      <td>Q(\"genre_pop/r&amp;b\")</td>\n",
       "    </tr>\n",
       "    <tr>\n",
       "      <th>11</th>\n",
       "      <td>-19.891916</td>\n",
       "      <td>2.296417e-09</td>\n",
       "      <td>Q(\"genre_rap\")</td>\n",
       "    </tr>\n",
       "    <tr>\n",
       "      <th>12</th>\n",
       "      <td>-19.756024</td>\n",
       "      <td>2.630678e-09</td>\n",
       "      <td>Q(\"genre_rock\")</td>\n",
       "    </tr>\n",
       "    <tr>\n",
       "      <th>13</th>\n",
       "      <td>0.139263</td>\n",
       "      <td>1.149426e+00</td>\n",
       "      <td>Q(\"author_type\")</td>\n",
       "    </tr>\n",
       "    <tr>\n",
       "      <th>14</th>\n",
       "      <td>0.001342</td>\n",
       "      <td>1.001342e+00</td>\n",
       "      <td>author</td>\n",
       "    </tr>\n",
       "  </tbody>\n",
       "</table>\n",
       "</div>"
      ],
      "text/plain": [
       "          coef    odds ratio                     name\n",
       "0  -178.236588  3.915918e-78                Intercept\n",
       "1     0.016845  1.016988e+00                    count\n",
       "2     0.044799  1.045818e+00                sentiment\n",
       "3     0.096706  1.101536e+00                     year\n",
       "4   -19.798843  2.520412e-09    Q(\"genre_electronic\")\n",
       "5   -19.684559  2.825560e-09  Q(\"genre_experimental\")\n",
       "6   -19.676926  2.847211e-09  Q(\"genre_folk/country\")\n",
       "7   -19.815881  2.477835e-09        Q(\"genre_global\")\n",
       "8   -19.814424  2.481447e-09          Q(\"genre_jazz\")\n",
       "9   -19.956932  2.151862e-09         Q(\"genre_metal\")\n",
       "10  -19.841093  2.416143e-09       Q(\"genre_pop/r&b\")\n",
       "11  -19.891916  2.296417e-09           Q(\"genre_rap\")\n",
       "12  -19.756024  2.630678e-09          Q(\"genre_rock\")\n",
       "13    0.139263  1.149426e+00         Q(\"author_type\")\n",
       "14    0.001342  1.001342e+00                   author"
      ]
     },
     "execution_count": 49,
     "metadata": {},
     "output_type": "execute_result"
    }
   ],
   "source": [
    "import numpy as np\n",
    "coefs = pd.DataFrame({\n",
    "    'coef': results.params.values,\n",
    "    'odds ratio': np.exp(results.params.values),\n",
    "    'name': results.params.index\n",
    "})\n",
    "coefs"
   ]
  },
  {
   "cell_type": "markdown",
   "metadata": {},
   "source": [
    "#### d) What features are most/least predictive of a best new music designation and why do you think that is?"
   ]
  },
  {
   "cell_type": "markdown",
   "metadata": {},
   "source": [
    "#### Observations and results-:"
   ]
  },
  {
   "cell_type": "markdown",
   "metadata": {},
   "source": [
    " 1. Odds ratio-: Coefficients for sentiment, year, author_type, and author variables are +ve i.e. these variables will increase the odds of the best new music while the coeffcients for binary genre variables are negative and penalizing the odds of best new music. "
   ]
  },
  {
   "cell_type": "markdown",
   "metadata": {},
   "source": [
    " 2. Statistical Significance:-Typically a p value of 0.05 (or 5%) is thought of as \"good\" or \"statistically significant,\" as there's only a 5% or less chance that these results aren't valid. Our p-value for overall regression is less than 0.05 which means results are very much valid."
   ]
  },
  {
   "cell_type": "markdown",
   "metadata": {},
   "source": [
    "  3. Feature Importance-: Beyond p values for the entire regression, we can also find p-values for each individual feature. They're listed under P>|z|. Notice that p-values for 'author' and 'author_type'and 'year' are the best and the most predictive feature for the response variable while genre binary variables are the least predictive as they have the p-values greater than 0.05."
   ]
  },
  {
   "cell_type": "markdown",
   "metadata": {},
   "source": [
    "##### e) If you were to engineer an additional feature for the regression, what would it be? Describe how you would approach constructing that feature."
   ]
  },
  {
   "cell_type": "markdown",
   "metadata": {},
   "source": [
    "- Rudimentary Analysis shows 'authors' and 'authors role' plays an important role in predicitng the likelihood of best new music. Similarly, it would be interesting to see whether an artist is essential to the success of best new music or not. Recursive Feature Elimination technique can be used to see whether this new feature revamp the model quality or not. If the new feature improves the model then pseudo R-square will increase."
   ]
  },
  {
   "cell_type": "markdown",
   "metadata": {},
   "source": [
    "- Other time related feature that can be explored is the releasing month. As we have seen that year plays an essential part in predicting the best new music, therefore further granularity at the month level may assist the model quality. Feature can be constructed by denoting each month of the year by a number and would be cond=sidered as categorical feature."
   ]
  },
  {
   "cell_type": "markdown",
   "metadata": {},
   "source": [
    "## 6) Data Visualization (Optional): \n",
    "\n",
    "Using the results from your regression and data analysis create a visualization that tells a story about the data. Feel free to take personal liberties with this and be as creative as you like. "
   ]
  },
  {
   "cell_type": "markdown",
   "metadata": {},
   "source": [
    "### How are review scores distributed?"
   ]
  },
  {
   "cell_type": "code",
   "execution_count": 50,
   "metadata": {},
   "outputs": [],
   "source": [
    "import matplotlib.pyplot as pl\n",
    "# Special colour for graphs\n",
    "p4k_red = '#ff3530'"
   ]
  },
  {
   "cell_type": "code",
   "execution_count": 51,
   "metadata": {},
   "outputs": [
    {
     "data": {
      "image/png": "[encoded data removed]",
      "text/plain": [
       "<Figure size 432x288 with 1 Axes>"
      ]
     },
     "metadata": {
      "needs_background": "light"
     },
     "output_type": "display_data"
    }
   ],
   "source": [
    "pl.hist(reviews['score'], bins=101, color=p4k_red)\n",
    "pl.title('Histogram of Review Scores')\n",
    "pl.xlabel('Score')\n",
    "pl.ylabel('Number of Reviews');"
   ]
  },
  {
   "cell_type": "markdown",
   "metadata": {},
   "source": [
    "## Genres\n",
    "### What's the most reviewed genre?"
   ]
  },
  {
   "cell_type": "code",
   "execution_count": 52,
   "metadata": {},
   "outputs": [
    {
     "data": {
      "image/png": "[encoded data removed]",
      "text/plain": [
       "<Figure size 432x288 with 1 Axes>"
      ]
     },
     "metadata": {
      "needs_background": "light"
     },
     "output_type": "display_data"
    }
   ],
   "source": [
    "pl.bar(x=num_genre_albums.index, height=num_genre_albums, color=p4k_red)\n",
    "pl.xticks(rotation=90)\n",
    "pl.title('Number of Reviews per Genre')\n",
    "pl.xlabel('Genre')\n",
    "pl.ylabel('Number of Reviews');"
   ]
  },
  {
   "cell_type": "markdown",
   "metadata": {},
   "source": [
    "## What's the highest rated genre?\n",
    "\n",
    "All of the genres tend to have an average score between about  6.5  and  7.5 . Although global music has the highest rating, it is also the least reviewed genre, so individual scores have a higher influence on the genre mean than in other genres.Between the top 3 most reviewed genres (rock, electronic, experimental), there is sufficient evidence at a  0.05  significance level that their mean scores differ."
   ]
  },
  {
   "cell_type": "code",
   "execution_count": 53,
   "metadata": {},
   "outputs": [
    {
     "data": {
      "text/html": [
       "<div>\n",
       "<style scoped>\n",
       "    .dataframe tbody tr th:only-of-type {\n",
       "        vertical-align: middle;\n",
       "    }\n",
       "\n",
       "    .dataframe tbody tr th {\n",
       "        vertical-align: top;\n",
       "    }\n",
       "\n",
       "    .dataframe thead th {\n",
       "        text-align: right;\n",
       "    }\n",
       "</style>\n",
       "<table border=\"1\" class=\"dataframe\">\n",
       "  <thead>\n",
       "    <tr style=\"text-align: right;\">\n",
       "      <th></th>\n",
       "      <th>Mean Score</th>\n",
       "    </tr>\n",
       "    <tr>\n",
       "      <th>Genre</th>\n",
       "      <th></th>\n",
       "    </tr>\n",
       "  </thead>\n",
       "  <tbody>\n",
       "    <tr>\n",
       "      <th>electronic</th>\n",
       "      <td>6.921589</td>\n",
       "    </tr>\n",
       "    <tr>\n",
       "      <th>experimental</th>\n",
       "      <td>7.333462</td>\n",
       "    </tr>\n",
       "    <tr>\n",
       "      <th>folk/country</th>\n",
       "      <td>7.202332</td>\n",
       "    </tr>\n",
       "    <tr>\n",
       "      <th>global</th>\n",
       "      <td>7.429680</td>\n",
       "    </tr>\n",
       "    <tr>\n",
       "      <th>jazz</th>\n",
       "      <td>7.303908</td>\n",
       "    </tr>\n",
       "    <tr>\n",
       "      <th>metal</th>\n",
       "      <td>6.944560</td>\n",
       "    </tr>\n",
       "    <tr>\n",
       "      <th>pop/r&amp;b</th>\n",
       "      <td>6.883799</td>\n",
       "    </tr>\n",
       "    <tr>\n",
       "      <th>rap</th>\n",
       "      <td>6.902115</td>\n",
       "    </tr>\n",
       "    <tr>\n",
       "      <th>rock</th>\n",
       "      <td>6.941278</td>\n",
       "    </tr>\n",
       "  </tbody>\n",
       "</table>\n",
       "</div>"
      ],
      "text/plain": [
       "              Mean Score\n",
       "Genre                   \n",
       "electronic      6.921589\n",
       "experimental    7.333462\n",
       "folk/country    7.202332\n",
       "global          7.429680\n",
       "jazz            7.303908\n",
       "metal           6.944560\n",
       "pop/r&b         6.883799\n",
       "rap             6.902115\n",
       "rock            6.941278"
      ]
     },
     "execution_count": 53,
     "metadata": {},
     "output_type": "execute_result"
    }
   ],
   "source": [
    "mean_genre_scores = reviews.merge(genres, on='reviewid').groupby('genre')['score'].mean()\n",
    "mean_genre_scores_pd = pd.DataFrame(mean_genre_scores).reset_index()\n",
    "mean_genre_scores_pd.columns = ['Genre', 'Mean Score']\n",
    "mean_genre_scores_pd.set_index('Genre')"
   ]
  },
  {
   "cell_type": "code",
   "execution_count": 54,
   "metadata": {},
   "outputs": [
    {
     "data": {
      "image/png": "[encoded data removed]",
      "text/plain": [
       "<Figure size 432x288 with 1 Axes>"
      ]
     },
     "metadata": {
      "needs_background": "light"
     },
     "output_type": "display_data"
    }
   ],
   "source": [
    "pl.bar(x=mean_genre_scores.index, height=mean_genre_scores, color=p4k_red)\n",
    "pl.xticks(rotation=90)\n",
    "pl.title('Mean Review Score by Genre')\n",
    "pl.xlabel('Genre')\n",
    "pl.ylabel('Mean Review Score')\n",
    "pl.ylim(6, 8);"
   ]
  },
  {
   "cell_type": "markdown",
   "metadata": {},
   "source": [
    "## Reviews Over Time\n",
    "\n",
    "How did the average review score change over the years?\n",
    "It appears that there was a slight increase in review scores over the years, but there only exists a very weak correlation between published date and score ( r=0.0463 )."
   ]
  },
  {
   "cell_type": "code",
   "execution_count": 55,
   "metadata": {},
   "outputs": [],
   "source": [
    "# Resample the time series by every 6 months\n",
    "reviews['pub_date'] = pd.to_datetime(reviews['pub_date'])\n",
    "reviews_by_pub = reviews.set_index(['pub_date'])\n",
    "means_by_year = reviews_by_pub['score'].resample('6M').mean()"
   ]
  },
  {
   "cell_type": "code",
   "execution_count": 56,
   "metadata": {},
   "outputs": [
    {
     "data": {
      "image/png": "[encoded data removed]",
      "text/plain": [
       "<Figure size 432x288 with 1 Axes>"
      ]
     },
     "metadata": {
      "needs_background": "light"
     },
     "output_type": "display_data"
    }
   ],
   "source": [
    "pl.scatter(x=reviews_by_pub.index, y=reviews_by_pub['score'], alpha=0.04, s=1, color='black');\n",
    "pl.title('Review Score by Published Date')\n",
    "pl.xlabel('Published Date')\n",
    "pl.ylabel('Review Score')\n",
    "\n",
    "pl.plot(means_by_year, linewidth=1.5, color=p4k_red);"
   ]
  },
  {
   "cell_type": "code",
   "execution_count": null,
   "metadata": {},
   "outputs": [],
   "source": []
  }
 ],
 "metadata": {
  "kernelspec": {
   "display_name": "Python 3",
   "language": "python",
   "name": "python3"
  },
  "language_info": {
   "codemirror_mode": {
    "name": "ipython",
    "version": 3
   },
   "file_extension": ".py",
   "mimetype": "text/x-python",
   "name": "python",
   "nbconvert_exporter": "python",
   "pygments_lexer": "ipython3",
   "version": "3.8.8"
  }
 },
 "nbformat": 4,
 "nbformat_minor": 2
}
